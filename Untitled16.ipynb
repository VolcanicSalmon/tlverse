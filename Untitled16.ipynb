{
  "nbformat": 4,
  "nbformat_minor": 0,
  "metadata": {
    "colab": {
      "name": "Untitled16.ipynb",
      "provenance": [],
      "authorship_tag": "ABX9TyPKP6v0/tef68rNxNt0ri6a",
      "include_colab_link": true
    },
    "kernelspec": {
      "name": "python3",
      "display_name": "Python 3"
    },
    "language_info": {
      "name": "python"
    },
    "widgets": {
      "application/vnd.jupyter.widget-state+json": {
        "ded47ef4aece44ce842280b4e62c7c61": {
          "model_module": "@jupyter-widgets/controls",
          "model_name": "HBoxModel",
          "model_module_version": "1.5.0",
          "state": {
            "_view_name": "HBoxView",
            "_dom_classes": [],
            "_model_name": "HBoxModel",
            "_view_module": "@jupyter-widgets/controls",
            "_model_module_version": "1.5.0",
            "_view_count": null,
            "_view_module_version": "1.5.0",
            "box_style": "",
            "layout": "IPY_MODEL_72b03310aa6b4148b195c8c5d4a6ac0c",
            "_model_module": "@jupyter-widgets/controls",
            "children": [
              "IPY_MODEL_3f259ab9d53445afb7165c8d9191eebb",
              "IPY_MODEL_9fafc7dac1b64fe09144a3f0ef9b2305",
              "IPY_MODEL_1e645a9ca6f34d53b3925b312cc1962a"
            ]
          }
        },
        "72b03310aa6b4148b195c8c5d4a6ac0c": {
          "model_module": "@jupyter-widgets/base",
          "model_name": "LayoutModel",
          "model_module_version": "1.2.0",
          "state": {
            "_view_name": "LayoutView",
            "grid_template_rows": null,
            "right": null,
            "justify_content": null,
            "_view_module": "@jupyter-widgets/base",
            "overflow": null,
            "_model_module_version": "1.2.0",
            "_view_count": null,
            "flex_flow": null,
            "width": null,
            "min_width": null,
            "border": null,
            "align_items": null,
            "bottom": null,
            "_model_module": "@jupyter-widgets/base",
            "top": null,
            "grid_column": null,
            "overflow_y": null,
            "overflow_x": null,
            "grid_auto_flow": null,
            "grid_area": null,
            "grid_template_columns": null,
            "flex": null,
            "_model_name": "LayoutModel",
            "justify_items": null,
            "grid_row": null,
            "max_height": null,
            "align_content": null,
            "visibility": null,
            "align_self": null,
            "height": null,
            "min_height": null,
            "padding": null,
            "grid_auto_rows": null,
            "grid_gap": null,
            "max_width": null,
            "order": null,
            "_view_module_version": "1.2.0",
            "grid_template_areas": null,
            "object_position": null,
            "object_fit": null,
            "grid_auto_columns": null,
            "margin": null,
            "display": null,
            "left": null
          }
        },
        "3f259ab9d53445afb7165c8d9191eebb": {
          "model_module": "@jupyter-widgets/controls",
          "model_name": "HTMLModel",
          "model_module_version": "1.5.0",
          "state": {
            "_view_name": "HTMLView",
            "style": "IPY_MODEL_14439ae9fbd34ffaa0540d16069e45da",
            "_dom_classes": [],
            "description": "",
            "_model_name": "HTMLModel",
            "placeholder": "​",
            "_view_module": "@jupyter-widgets/controls",
            "_model_module_version": "1.5.0",
            "value": "Downloading S2A_MSIL1C_20210809T160901_N0301_R140_T16PDV_20210809T221649.zip: 100%",
            "_view_count": null,
            "_view_module_version": "1.5.0",
            "description_tooltip": null,
            "_model_module": "@jupyter-widgets/controls",
            "layout": "IPY_MODEL_20069fb1b1b0447aa5c1242b1ff3cde0"
          }
        },
        "9fafc7dac1b64fe09144a3f0ef9b2305": {
          "model_module": "@jupyter-widgets/controls",
          "model_name": "FloatProgressModel",
          "model_module_version": "1.5.0",
          "state": {
            "_view_name": "ProgressView",
            "style": "IPY_MODEL_f56995d9e54548898b2c52c308a8d0bb",
            "_dom_classes": [],
            "description": "",
            "_model_name": "FloatProgressModel",
            "bar_style": "success",
            "max": 806483208,
            "_view_module": "@jupyter-widgets/controls",
            "_model_module_version": "1.5.0",
            "value": 806483208,
            "_view_count": null,
            "_view_module_version": "1.5.0",
            "orientation": "horizontal",
            "min": 0,
            "description_tooltip": null,
            "_model_module": "@jupyter-widgets/controls",
            "layout": "IPY_MODEL_376c145f106642dbaaad20cb5da30eda"
          }
        },
        "1e645a9ca6f34d53b3925b312cc1962a": {
          "model_module": "@jupyter-widgets/controls",
          "model_name": "HTMLModel",
          "model_module_version": "1.5.0",
          "state": {
            "_view_name": "HTMLView",
            "style": "IPY_MODEL_d9f04dd0049244c8b77233926c721b45",
            "_dom_classes": [],
            "description": "",
            "_model_name": "HTMLModel",
            "placeholder": "​",
            "_view_module": "@jupyter-widgets/controls",
            "_model_module_version": "1.5.0",
            "value": " 806M/806M [10:40&lt;00:00, 1.12MB/s]",
            "_view_count": null,
            "_view_module_version": "1.5.0",
            "description_tooltip": null,
            "_model_module": "@jupyter-widgets/controls",
            "layout": "IPY_MODEL_3c0c8040ca594d6e9ebfff5baa27fad6"
          }
        },
        "14439ae9fbd34ffaa0540d16069e45da": {
          "model_module": "@jupyter-widgets/controls",
          "model_name": "DescriptionStyleModel",
          "model_module_version": "1.5.0",
          "state": {
            "_view_name": "StyleView",
            "_model_name": "DescriptionStyleModel",
            "description_width": "",
            "_view_module": "@jupyter-widgets/base",
            "_model_module_version": "1.5.0",
            "_view_count": null,
            "_view_module_version": "1.2.0",
            "_model_module": "@jupyter-widgets/controls"
          }
        },
        "20069fb1b1b0447aa5c1242b1ff3cde0": {
          "model_module": "@jupyter-widgets/base",
          "model_name": "LayoutModel",
          "model_module_version": "1.2.0",
          "state": {
            "_view_name": "LayoutView",
            "grid_template_rows": null,
            "right": null,
            "justify_content": null,
            "_view_module": "@jupyter-widgets/base",
            "overflow": null,
            "_model_module_version": "1.2.0",
            "_view_count": null,
            "flex_flow": null,
            "width": null,
            "min_width": null,
            "border": null,
            "align_items": null,
            "bottom": null,
            "_model_module": "@jupyter-widgets/base",
            "top": null,
            "grid_column": null,
            "overflow_y": null,
            "overflow_x": null,
            "grid_auto_flow": null,
            "grid_area": null,
            "grid_template_columns": null,
            "flex": null,
            "_model_name": "LayoutModel",
            "justify_items": null,
            "grid_row": null,
            "max_height": null,
            "align_content": null,
            "visibility": null,
            "align_self": null,
            "height": null,
            "min_height": null,
            "padding": null,
            "grid_auto_rows": null,
            "grid_gap": null,
            "max_width": null,
            "order": null,
            "_view_module_version": "1.2.0",
            "grid_template_areas": null,
            "object_position": null,
            "object_fit": null,
            "grid_auto_columns": null,
            "margin": null,
            "display": null,
            "left": null
          }
        },
        "f56995d9e54548898b2c52c308a8d0bb": {
          "model_module": "@jupyter-widgets/controls",
          "model_name": "ProgressStyleModel",
          "model_module_version": "1.5.0",
          "state": {
            "_view_name": "StyleView",
            "_model_name": "ProgressStyleModel",
            "description_width": "",
            "_view_module": "@jupyter-widgets/base",
            "_model_module_version": "1.5.0",
            "_view_count": null,
            "_view_module_version": "1.2.0",
            "bar_color": null,
            "_model_module": "@jupyter-widgets/controls"
          }
        },
        "376c145f106642dbaaad20cb5da30eda": {
          "model_module": "@jupyter-widgets/base",
          "model_name": "LayoutModel",
          "model_module_version": "1.2.0",
          "state": {
            "_view_name": "LayoutView",
            "grid_template_rows": null,
            "right": null,
            "justify_content": null,
            "_view_module": "@jupyter-widgets/base",
            "overflow": null,
            "_model_module_version": "1.2.0",
            "_view_count": null,
            "flex_flow": null,
            "width": null,
            "min_width": null,
            "border": null,
            "align_items": null,
            "bottom": null,
            "_model_module": "@jupyter-widgets/base",
            "top": null,
            "grid_column": null,
            "overflow_y": null,
            "overflow_x": null,
            "grid_auto_flow": null,
            "grid_area": null,
            "grid_template_columns": null,
            "flex": null,
            "_model_name": "LayoutModel",
            "justify_items": null,
            "grid_row": null,
            "max_height": null,
            "align_content": null,
            "visibility": null,
            "align_self": null,
            "height": null,
            "min_height": null,
            "padding": null,
            "grid_auto_rows": null,
            "grid_gap": null,
            "max_width": null,
            "order": null,
            "_view_module_version": "1.2.0",
            "grid_template_areas": null,
            "object_position": null,
            "object_fit": null,
            "grid_auto_columns": null,
            "margin": null,
            "display": null,
            "left": null
          }
        },
        "d9f04dd0049244c8b77233926c721b45": {
          "model_module": "@jupyter-widgets/controls",
          "model_name": "DescriptionStyleModel",
          "model_module_version": "1.5.0",
          "state": {
            "_view_name": "StyleView",
            "_model_name": "DescriptionStyleModel",
            "description_width": "",
            "_view_module": "@jupyter-widgets/base",
            "_model_module_version": "1.5.0",
            "_view_count": null,
            "_view_module_version": "1.2.0",
            "_model_module": "@jupyter-widgets/controls"
          }
        },
        "3c0c8040ca594d6e9ebfff5baa27fad6": {
          "model_module": "@jupyter-widgets/base",
          "model_name": "LayoutModel",
          "model_module_version": "1.2.0",
          "state": {
            "_view_name": "LayoutView",
            "grid_template_rows": null,
            "right": null,
            "justify_content": null,
            "_view_module": "@jupyter-widgets/base",
            "overflow": null,
            "_model_module_version": "1.2.0",
            "_view_count": null,
            "flex_flow": null,
            "width": null,
            "min_width": null,
            "border": null,
            "align_items": null,
            "bottom": null,
            "_model_module": "@jupyter-widgets/base",
            "top": null,
            "grid_column": null,
            "overflow_y": null,
            "overflow_x": null,
            "grid_auto_flow": null,
            "grid_area": null,
            "grid_template_columns": null,
            "flex": null,
            "_model_name": "LayoutModel",
            "justify_items": null,
            "grid_row": null,
            "max_height": null,
            "align_content": null,
            "visibility": null,
            "align_self": null,
            "height": null,
            "min_height": null,
            "padding": null,
            "grid_auto_rows": null,
            "grid_gap": null,
            "max_width": null,
            "order": null,
            "_view_module_version": "1.2.0",
            "grid_template_areas": null,
            "object_position": null,
            "object_fit": null,
            "grid_auto_columns": null,
            "margin": null,
            "display": null,
            "left": null
          }
        },
        "0208f8aed073475f9bec9df2ca3500e8": {
          "model_module": "@jupyter-widgets/controls",
          "model_name": "HBoxModel",
          "model_module_version": "1.5.0",
          "state": {
            "_view_name": "HBoxView",
            "_dom_classes": [],
            "_model_name": "HBoxModel",
            "_view_module": "@jupyter-widgets/controls",
            "_model_module_version": "1.5.0",
            "_view_count": null,
            "_view_module_version": "1.5.0",
            "box_style": "",
            "layout": "IPY_MODEL_9d88c95271234ff69569e10bfade9356",
            "_model_module": "@jupyter-widgets/controls",
            "children": [
              "IPY_MODEL_b4e24926837949afa8dbec42fac00793",
              "IPY_MODEL_b0ecdc1204e04a18bee7698148b29ab1",
              "IPY_MODEL_f4aba963201449eb9fb90b63bc5e8d41"
            ]
          }
        },
        "9d88c95271234ff69569e10bfade9356": {
          "model_module": "@jupyter-widgets/base",
          "model_name": "LayoutModel",
          "model_module_version": "1.2.0",
          "state": {
            "_view_name": "LayoutView",
            "grid_template_rows": null,
            "right": null,
            "justify_content": null,
            "_view_module": "@jupyter-widgets/base",
            "overflow": null,
            "_model_module_version": "1.2.0",
            "_view_count": null,
            "flex_flow": null,
            "width": null,
            "min_width": null,
            "border": null,
            "align_items": null,
            "bottom": null,
            "_model_module": "@jupyter-widgets/base",
            "top": null,
            "grid_column": null,
            "overflow_y": null,
            "overflow_x": null,
            "grid_auto_flow": null,
            "grid_area": null,
            "grid_template_columns": null,
            "flex": null,
            "_model_name": "LayoutModel",
            "justify_items": null,
            "grid_row": null,
            "max_height": null,
            "align_content": null,
            "visibility": null,
            "align_self": null,
            "height": null,
            "min_height": null,
            "padding": null,
            "grid_auto_rows": null,
            "grid_gap": null,
            "max_width": null,
            "order": null,
            "_view_module_version": "1.2.0",
            "grid_template_areas": null,
            "object_position": null,
            "object_fit": null,
            "grid_auto_columns": null,
            "margin": null,
            "display": null,
            "left": null
          }
        },
        "b4e24926837949afa8dbec42fac00793": {
          "model_module": "@jupyter-widgets/controls",
          "model_name": "HTMLModel",
          "model_module_version": "1.5.0",
          "state": {
            "_view_name": "HTMLView",
            "style": "IPY_MODEL_7c534b76913f485e8fe65f64550521b2",
            "_dom_classes": [],
            "description": "",
            "_model_name": "HTMLModel",
            "placeholder": "​",
            "_view_module": "@jupyter-widgets/controls",
            "_model_module_version": "1.5.0",
            "value": "MD5 checksumming:  98%",
            "_view_count": null,
            "_view_module_version": "1.5.0",
            "description_tooltip": null,
            "_model_module": "@jupyter-widgets/controls",
            "layout": "IPY_MODEL_59582de7462f45d29003f10fb345aa4b"
          }
        },
        "b0ecdc1204e04a18bee7698148b29ab1": {
          "model_module": "@jupyter-widgets/controls",
          "model_name": "FloatProgressModel",
          "model_module_version": "1.5.0",
          "state": {
            "_view_name": "ProgressView",
            "style": "IPY_MODEL_09d4a75592c544a08a432918c57c066a",
            "_dom_classes": [],
            "description": "",
            "_model_name": "FloatProgressModel",
            "bar_style": "",
            "max": 806483208,
            "_view_module": "@jupyter-widgets/controls",
            "_model_module_version": "1.5.0",
            "value": 806483208,
            "_view_count": null,
            "_view_module_version": "1.5.0",
            "orientation": "horizontal",
            "min": 0,
            "description_tooltip": null,
            "_model_module": "@jupyter-widgets/controls",
            "layout": "IPY_MODEL_47d8ab5006944f5a96bf2ed41f827221"
          }
        },
        "f4aba963201449eb9fb90b63bc5e8d41": {
          "model_module": "@jupyter-widgets/controls",
          "model_name": "HTMLModel",
          "model_module_version": "1.5.0",
          "state": {
            "_view_name": "HTMLView",
            "style": "IPY_MODEL_386893f189a746f1b4ea6315d0d22e88",
            "_dom_classes": [],
            "description": "",
            "_model_name": "HTMLModel",
            "placeholder": "​",
            "_view_module": "@jupyter-widgets/controls",
            "_model_module_version": "1.5.0",
            "value": " 793M/806M [00:02&lt;00:00, 365MB/s]",
            "_view_count": null,
            "_view_module_version": "1.5.0",
            "description_tooltip": null,
            "_model_module": "@jupyter-widgets/controls",
            "layout": "IPY_MODEL_3090aab5ad5f4b6db688c16d7afe4e14"
          }
        },
        "7c534b76913f485e8fe65f64550521b2": {
          "model_module": "@jupyter-widgets/controls",
          "model_name": "DescriptionStyleModel",
          "model_module_version": "1.5.0",
          "state": {
            "_view_name": "StyleView",
            "_model_name": "DescriptionStyleModel",
            "description_width": "",
            "_view_module": "@jupyter-widgets/base",
            "_model_module_version": "1.5.0",
            "_view_count": null,
            "_view_module_version": "1.2.0",
            "_model_module": "@jupyter-widgets/controls"
          }
        },
        "59582de7462f45d29003f10fb345aa4b": {
          "model_module": "@jupyter-widgets/base",
          "model_name": "LayoutModel",
          "model_module_version": "1.2.0",
          "state": {
            "_view_name": "LayoutView",
            "grid_template_rows": null,
            "right": null,
            "justify_content": null,
            "_view_module": "@jupyter-widgets/base",
            "overflow": null,
            "_model_module_version": "1.2.0",
            "_view_count": null,
            "flex_flow": null,
            "width": null,
            "min_width": null,
            "border": null,
            "align_items": null,
            "bottom": null,
            "_model_module": "@jupyter-widgets/base",
            "top": null,
            "grid_column": null,
            "overflow_y": null,
            "overflow_x": null,
            "grid_auto_flow": null,
            "grid_area": null,
            "grid_template_columns": null,
            "flex": null,
            "_model_name": "LayoutModel",
            "justify_items": null,
            "grid_row": null,
            "max_height": null,
            "align_content": null,
            "visibility": null,
            "align_self": null,
            "height": null,
            "min_height": null,
            "padding": null,
            "grid_auto_rows": null,
            "grid_gap": null,
            "max_width": null,
            "order": null,
            "_view_module_version": "1.2.0",
            "grid_template_areas": null,
            "object_position": null,
            "object_fit": null,
            "grid_auto_columns": null,
            "margin": null,
            "display": null,
            "left": null
          }
        },
        "09d4a75592c544a08a432918c57c066a": {
          "model_module": "@jupyter-widgets/controls",
          "model_name": "ProgressStyleModel",
          "model_module_version": "1.5.0",
          "state": {
            "_view_name": "StyleView",
            "_model_name": "ProgressStyleModel",
            "description_width": "",
            "_view_module": "@jupyter-widgets/base",
            "_model_module_version": "1.5.0",
            "_view_count": null,
            "_view_module_version": "1.2.0",
            "bar_color": null,
            "_model_module": "@jupyter-widgets/controls"
          }
        },
        "47d8ab5006944f5a96bf2ed41f827221": {
          "model_module": "@jupyter-widgets/base",
          "model_name": "LayoutModel",
          "model_module_version": "1.2.0",
          "state": {
            "_view_name": "LayoutView",
            "grid_template_rows": null,
            "right": null,
            "justify_content": null,
            "_view_module": "@jupyter-widgets/base",
            "overflow": null,
            "_model_module_version": "1.2.0",
            "_view_count": null,
            "flex_flow": null,
            "width": null,
            "min_width": null,
            "border": null,
            "align_items": null,
            "bottom": null,
            "_model_module": "@jupyter-widgets/base",
            "top": null,
            "grid_column": null,
            "overflow_y": null,
            "overflow_x": null,
            "grid_auto_flow": null,
            "grid_area": null,
            "grid_template_columns": null,
            "flex": null,
            "_model_name": "LayoutModel",
            "justify_items": null,
            "grid_row": null,
            "max_height": null,
            "align_content": null,
            "visibility": null,
            "align_self": null,
            "height": null,
            "min_height": null,
            "padding": null,
            "grid_auto_rows": null,
            "grid_gap": null,
            "max_width": null,
            "order": null,
            "_view_module_version": "1.2.0",
            "grid_template_areas": null,
            "object_position": null,
            "object_fit": null,
            "grid_auto_columns": null,
            "margin": null,
            "display": null,
            "left": null
          }
        },
        "386893f189a746f1b4ea6315d0d22e88": {
          "model_module": "@jupyter-widgets/controls",
          "model_name": "DescriptionStyleModel",
          "model_module_version": "1.5.0",
          "state": {
            "_view_name": "StyleView",
            "_model_name": "DescriptionStyleModel",
            "description_width": "",
            "_view_module": "@jupyter-widgets/base",
            "_model_module_version": "1.5.0",
            "_view_count": null,
            "_view_module_version": "1.2.0",
            "_model_module": "@jupyter-widgets/controls"
          }
        },
        "3090aab5ad5f4b6db688c16d7afe4e14": {
          "model_module": "@jupyter-widgets/base",
          "model_name": "LayoutModel",
          "model_module_version": "1.2.0",
          "state": {
            "_view_name": "LayoutView",
            "grid_template_rows": null,
            "right": null,
            "justify_content": null,
            "_view_module": "@jupyter-widgets/base",
            "overflow": null,
            "_model_module_version": "1.2.0",
            "_view_count": null,
            "flex_flow": null,
            "width": null,
            "min_width": null,
            "border": null,
            "align_items": null,
            "bottom": null,
            "_model_module": "@jupyter-widgets/base",
            "top": null,
            "grid_column": null,
            "overflow_y": null,
            "overflow_x": null,
            "grid_auto_flow": null,
            "grid_area": null,
            "grid_template_columns": null,
            "flex": null,
            "_model_name": "LayoutModel",
            "justify_items": null,
            "grid_row": null,
            "max_height": null,
            "align_content": null,
            "visibility": null,
            "align_self": null,
            "height": null,
            "min_height": null,
            "padding": null,
            "grid_auto_rows": null,
            "grid_gap": null,
            "max_width": null,
            "order": null,
            "_view_module_version": "1.2.0",
            "grid_template_areas": null,
            "object_position": null,
            "object_fit": null,
            "grid_auto_columns": null,
            "margin": null,
            "display": null,
            "left": null
          }
        },
        "00cff2e907b145b48761bd63f192e009": {
          "model_module": "@jupyter-widgets/controls",
          "model_name": "HBoxModel",
          "model_module_version": "1.5.0",
          "state": {
            "_view_name": "HBoxView",
            "_dom_classes": [],
            "_model_name": "HBoxModel",
            "_view_module": "@jupyter-widgets/controls",
            "_model_module_version": "1.5.0",
            "_view_count": null,
            "_view_module_version": "1.5.0",
            "box_style": "",
            "layout": "IPY_MODEL_d92f241f60ad4cbaa469c641b0120b15",
            "_model_module": "@jupyter-widgets/controls",
            "children": [
              "IPY_MODEL_7341a1bfe1d74d4eb6ef841bca6776cb",
              "IPY_MODEL_d23c0944b7764086b4ee0ca08e4ac428",
              "IPY_MODEL_4d7b9b3268a647888eed1b88d6bbd750"
            ]
          }
        },
        "d92f241f60ad4cbaa469c641b0120b15": {
          "model_module": "@jupyter-widgets/base",
          "model_name": "LayoutModel",
          "model_module_version": "1.2.0",
          "state": {
            "_view_name": "LayoutView",
            "grid_template_rows": null,
            "right": null,
            "justify_content": null,
            "_view_module": "@jupyter-widgets/base",
            "overflow": null,
            "_model_module_version": "1.2.0",
            "_view_count": null,
            "flex_flow": null,
            "width": null,
            "min_width": null,
            "border": null,
            "align_items": null,
            "bottom": null,
            "_model_module": "@jupyter-widgets/base",
            "top": null,
            "grid_column": null,
            "overflow_y": null,
            "overflow_x": null,
            "grid_auto_flow": null,
            "grid_area": null,
            "grid_template_columns": null,
            "flex": null,
            "_model_name": "LayoutModel",
            "justify_items": null,
            "grid_row": null,
            "max_height": null,
            "align_content": null,
            "visibility": null,
            "align_self": null,
            "height": null,
            "min_height": null,
            "padding": null,
            "grid_auto_rows": null,
            "grid_gap": null,
            "max_width": null,
            "order": null,
            "_view_module_version": "1.2.0",
            "grid_template_areas": null,
            "object_position": null,
            "object_fit": null,
            "grid_auto_columns": null,
            "margin": null,
            "display": null,
            "left": null
          }
        },
        "7341a1bfe1d74d4eb6ef841bca6776cb": {
          "model_module": "@jupyter-widgets/controls",
          "model_name": "HTMLModel",
          "model_module_version": "1.5.0",
          "state": {
            "_view_name": "HTMLView",
            "style": "IPY_MODEL_ab2eea37b25a4d929a2a79dd5480ad66",
            "_dom_classes": [],
            "description": "",
            "_model_name": "HTMLModel",
            "placeholder": "​",
            "_view_module": "@jupyter-widgets/controls",
            "_model_module_version": "1.5.0",
            "value": "Downloading S2A_MSIL1C_20211227T161701_N0301_R140_T16PDV_20211227T195002.zip: 100%",
            "_view_count": null,
            "_view_module_version": "1.5.0",
            "description_tooltip": null,
            "_model_module": "@jupyter-widgets/controls",
            "layout": "IPY_MODEL_a6623a010c944e9381b371e710dfbf56"
          }
        },
        "d23c0944b7764086b4ee0ca08e4ac428": {
          "model_module": "@jupyter-widgets/controls",
          "model_name": "FloatProgressModel",
          "model_module_version": "1.5.0",
          "state": {
            "_view_name": "ProgressView",
            "style": "IPY_MODEL_634d44d711594ddc8e0b265cf054332e",
            "_dom_classes": [],
            "description": "",
            "_model_name": "FloatProgressModel",
            "bar_style": "success",
            "max": 747396720,
            "_view_module": "@jupyter-widgets/controls",
            "_model_module_version": "1.5.0",
            "value": 747396720,
            "_view_count": null,
            "_view_module_version": "1.5.0",
            "orientation": "horizontal",
            "min": 0,
            "description_tooltip": null,
            "_model_module": "@jupyter-widgets/controls",
            "layout": "IPY_MODEL_b4918a2f3fe34678926e456e50d63ee5"
          }
        },
        "4d7b9b3268a647888eed1b88d6bbd750": {
          "model_module": "@jupyter-widgets/controls",
          "model_name": "HTMLModel",
          "model_module_version": "1.5.0",
          "state": {
            "_view_name": "HTMLView",
            "style": "IPY_MODEL_fac78c29344d460cbe6904e92d7b4ef6",
            "_dom_classes": [],
            "description": "",
            "_model_name": "HTMLModel",
            "placeholder": "​",
            "_view_module": "@jupyter-widgets/controls",
            "_model_module_version": "1.5.0",
            "value": " 747M/747M [07:25&lt;00:00, 7.02MB/s]",
            "_view_count": null,
            "_view_module_version": "1.5.0",
            "description_tooltip": null,
            "_model_module": "@jupyter-widgets/controls",
            "layout": "IPY_MODEL_0ae51d71a79d4abe8f1f019c71b08a6d"
          }
        },
        "ab2eea37b25a4d929a2a79dd5480ad66": {
          "model_module": "@jupyter-widgets/controls",
          "model_name": "DescriptionStyleModel",
          "model_module_version": "1.5.0",
          "state": {
            "_view_name": "StyleView",
            "_model_name": "DescriptionStyleModel",
            "description_width": "",
            "_view_module": "@jupyter-widgets/base",
            "_model_module_version": "1.5.0",
            "_view_count": null,
            "_view_module_version": "1.2.0",
            "_model_module": "@jupyter-widgets/controls"
          }
        },
        "a6623a010c944e9381b371e710dfbf56": {
          "model_module": "@jupyter-widgets/base",
          "model_name": "LayoutModel",
          "model_module_version": "1.2.0",
          "state": {
            "_view_name": "LayoutView",
            "grid_template_rows": null,
            "right": null,
            "justify_content": null,
            "_view_module": "@jupyter-widgets/base",
            "overflow": null,
            "_model_module_version": "1.2.0",
            "_view_count": null,
            "flex_flow": null,
            "width": null,
            "min_width": null,
            "border": null,
            "align_items": null,
            "bottom": null,
            "_model_module": "@jupyter-widgets/base",
            "top": null,
            "grid_column": null,
            "overflow_y": null,
            "overflow_x": null,
            "grid_auto_flow": null,
            "grid_area": null,
            "grid_template_columns": null,
            "flex": null,
            "_model_name": "LayoutModel",
            "justify_items": null,
            "grid_row": null,
            "max_height": null,
            "align_content": null,
            "visibility": null,
            "align_self": null,
            "height": null,
            "min_height": null,
            "padding": null,
            "grid_auto_rows": null,
            "grid_gap": null,
            "max_width": null,
            "order": null,
            "_view_module_version": "1.2.0",
            "grid_template_areas": null,
            "object_position": null,
            "object_fit": null,
            "grid_auto_columns": null,
            "margin": null,
            "display": null,
            "left": null
          }
        },
        "634d44d711594ddc8e0b265cf054332e": {
          "model_module": "@jupyter-widgets/controls",
          "model_name": "ProgressStyleModel",
          "model_module_version": "1.5.0",
          "state": {
            "_view_name": "StyleView",
            "_model_name": "ProgressStyleModel",
            "description_width": "",
            "_view_module": "@jupyter-widgets/base",
            "_model_module_version": "1.5.0",
            "_view_count": null,
            "_view_module_version": "1.2.0",
            "bar_color": null,
            "_model_module": "@jupyter-widgets/controls"
          }
        },
        "b4918a2f3fe34678926e456e50d63ee5": {
          "model_module": "@jupyter-widgets/base",
          "model_name": "LayoutModel",
          "model_module_version": "1.2.0",
          "state": {
            "_view_name": "LayoutView",
            "grid_template_rows": null,
            "right": null,
            "justify_content": null,
            "_view_module": "@jupyter-widgets/base",
            "overflow": null,
            "_model_module_version": "1.2.0",
            "_view_count": null,
            "flex_flow": null,
            "width": null,
            "min_width": null,
            "border": null,
            "align_items": null,
            "bottom": null,
            "_model_module": "@jupyter-widgets/base",
            "top": null,
            "grid_column": null,
            "overflow_y": null,
            "overflow_x": null,
            "grid_auto_flow": null,
            "grid_area": null,
            "grid_template_columns": null,
            "flex": null,
            "_model_name": "LayoutModel",
            "justify_items": null,
            "grid_row": null,
            "max_height": null,
            "align_content": null,
            "visibility": null,
            "align_self": null,
            "height": null,
            "min_height": null,
            "padding": null,
            "grid_auto_rows": null,
            "grid_gap": null,
            "max_width": null,
            "order": null,
            "_view_module_version": "1.2.0",
            "grid_template_areas": null,
            "object_position": null,
            "object_fit": null,
            "grid_auto_columns": null,
            "margin": null,
            "display": null,
            "left": null
          }
        },
        "fac78c29344d460cbe6904e92d7b4ef6": {
          "model_module": "@jupyter-widgets/controls",
          "model_name": "DescriptionStyleModel",
          "model_module_version": "1.5.0",
          "state": {
            "_view_name": "StyleView",
            "_model_name": "DescriptionStyleModel",
            "description_width": "",
            "_view_module": "@jupyter-widgets/base",
            "_model_module_version": "1.5.0",
            "_view_count": null,
            "_view_module_version": "1.2.0",
            "_model_module": "@jupyter-widgets/controls"
          }
        },
        "0ae51d71a79d4abe8f1f019c71b08a6d": {
          "model_module": "@jupyter-widgets/base",
          "model_name": "LayoutModel",
          "model_module_version": "1.2.0",
          "state": {
            "_view_name": "LayoutView",
            "grid_template_rows": null,
            "right": null,
            "justify_content": null,
            "_view_module": "@jupyter-widgets/base",
            "overflow": null,
            "_model_module_version": "1.2.0",
            "_view_count": null,
            "flex_flow": null,
            "width": null,
            "min_width": null,
            "border": null,
            "align_items": null,
            "bottom": null,
            "_model_module": "@jupyter-widgets/base",
            "top": null,
            "grid_column": null,
            "overflow_y": null,
            "overflow_x": null,
            "grid_auto_flow": null,
            "grid_area": null,
            "grid_template_columns": null,
            "flex": null,
            "_model_name": "LayoutModel",
            "justify_items": null,
            "grid_row": null,
            "max_height": null,
            "align_content": null,
            "visibility": null,
            "align_self": null,
            "height": null,
            "min_height": null,
            "padding": null,
            "grid_auto_rows": null,
            "grid_gap": null,
            "max_width": null,
            "order": null,
            "_view_module_version": "1.2.0",
            "grid_template_areas": null,
            "object_position": null,
            "object_fit": null,
            "grid_auto_columns": null,
            "margin": null,
            "display": null,
            "left": null
          }
        },
        "bf640210b1e144009bc86aed5c902b28": {
          "model_module": "@jupyter-widgets/controls",
          "model_name": "HBoxModel",
          "model_module_version": "1.5.0",
          "state": {
            "_view_name": "HBoxView",
            "_dom_classes": [],
            "_model_name": "HBoxModel",
            "_view_module": "@jupyter-widgets/controls",
            "_model_module_version": "1.5.0",
            "_view_count": null,
            "_view_module_version": "1.5.0",
            "box_style": "",
            "layout": "IPY_MODEL_735baa6edb3b41fc9267f672736ce82c",
            "_model_module": "@jupyter-widgets/controls",
            "children": [
              "IPY_MODEL_606637757a4a4235b8bb53f7d4ced89e",
              "IPY_MODEL_153d334d4c9c4bc7b5876811fab56858",
              "IPY_MODEL_bec733b2dbc54651a7448da217d41966"
            ]
          }
        },
        "735baa6edb3b41fc9267f672736ce82c": {
          "model_module": "@jupyter-widgets/base",
          "model_name": "LayoutModel",
          "model_module_version": "1.2.0",
          "state": {
            "_view_name": "LayoutView",
            "grid_template_rows": null,
            "right": null,
            "justify_content": null,
            "_view_module": "@jupyter-widgets/base",
            "overflow": null,
            "_model_module_version": "1.2.0",
            "_view_count": null,
            "flex_flow": null,
            "width": null,
            "min_width": null,
            "border": null,
            "align_items": null,
            "bottom": null,
            "_model_module": "@jupyter-widgets/base",
            "top": null,
            "grid_column": null,
            "overflow_y": null,
            "overflow_x": null,
            "grid_auto_flow": null,
            "grid_area": null,
            "grid_template_columns": null,
            "flex": null,
            "_model_name": "LayoutModel",
            "justify_items": null,
            "grid_row": null,
            "max_height": null,
            "align_content": null,
            "visibility": null,
            "align_self": null,
            "height": null,
            "min_height": null,
            "padding": null,
            "grid_auto_rows": null,
            "grid_gap": null,
            "max_width": null,
            "order": null,
            "_view_module_version": "1.2.0",
            "grid_template_areas": null,
            "object_position": null,
            "object_fit": null,
            "grid_auto_columns": null,
            "margin": null,
            "display": null,
            "left": null
          }
        },
        "606637757a4a4235b8bb53f7d4ced89e": {
          "model_module": "@jupyter-widgets/controls",
          "model_name": "HTMLModel",
          "model_module_version": "1.5.0",
          "state": {
            "_view_name": "HTMLView",
            "style": "IPY_MODEL_de690a3f67bc435c84d2d4f104edf2ff",
            "_dom_classes": [],
            "description": "",
            "_model_name": "HTMLModel",
            "placeholder": "​",
            "_view_module": "@jupyter-widgets/controls",
            "_model_module_version": "1.5.0",
            "value": "MD5 checksumming:  95%",
            "_view_count": null,
            "_view_module_version": "1.5.0",
            "description_tooltip": null,
            "_model_module": "@jupyter-widgets/controls",
            "layout": "IPY_MODEL_b9ca569a72c84bf0b54fb507d8ea8ead"
          }
        },
        "153d334d4c9c4bc7b5876811fab56858": {
          "model_module": "@jupyter-widgets/controls",
          "model_name": "FloatProgressModel",
          "model_module_version": "1.5.0",
          "state": {
            "_view_name": "ProgressView",
            "style": "IPY_MODEL_2c27cb16a2684b08b8b284e60079427e",
            "_dom_classes": [],
            "description": "",
            "_model_name": "FloatProgressModel",
            "bar_style": "",
            "max": 747396720,
            "_view_module": "@jupyter-widgets/controls",
            "_model_module_version": "1.5.0",
            "value": 747396720,
            "_view_count": null,
            "_view_module_version": "1.5.0",
            "orientation": "horizontal",
            "min": 0,
            "description_tooltip": null,
            "_model_module": "@jupyter-widgets/controls",
            "layout": "IPY_MODEL_c01ad582722f4a26a56b2f86dc562d8a"
          }
        },
        "bec733b2dbc54651a7448da217d41966": {
          "model_module": "@jupyter-widgets/controls",
          "model_name": "HTMLModel",
          "model_module_version": "1.5.0",
          "state": {
            "_view_name": "HTMLView",
            "style": "IPY_MODEL_0f155a8fd3214edfaff4d860fc32690c",
            "_dom_classes": [],
            "description": "",
            "_model_name": "HTMLModel",
            "placeholder": "​",
            "_view_module": "@jupyter-widgets/controls",
            "_model_module_version": "1.5.0",
            "value": " 713M/747M [00:02&lt;00:00, 368MB/s]",
            "_view_count": null,
            "_view_module_version": "1.5.0",
            "description_tooltip": null,
            "_model_module": "@jupyter-widgets/controls",
            "layout": "IPY_MODEL_6f350e48bf6d4cd28190b507b9f4bbfa"
          }
        },
        "de690a3f67bc435c84d2d4f104edf2ff": {
          "model_module": "@jupyter-widgets/controls",
          "model_name": "DescriptionStyleModel",
          "model_module_version": "1.5.0",
          "state": {
            "_view_name": "StyleView",
            "_model_name": "DescriptionStyleModel",
            "description_width": "",
            "_view_module": "@jupyter-widgets/base",
            "_model_module_version": "1.5.0",
            "_view_count": null,
            "_view_module_version": "1.2.0",
            "_model_module": "@jupyter-widgets/controls"
          }
        },
        "b9ca569a72c84bf0b54fb507d8ea8ead": {
          "model_module": "@jupyter-widgets/base",
          "model_name": "LayoutModel",
          "model_module_version": "1.2.0",
          "state": {
            "_view_name": "LayoutView",
            "grid_template_rows": null,
            "right": null,
            "justify_content": null,
            "_view_module": "@jupyter-widgets/base",
            "overflow": null,
            "_model_module_version": "1.2.0",
            "_view_count": null,
            "flex_flow": null,
            "width": null,
            "min_width": null,
            "border": null,
            "align_items": null,
            "bottom": null,
            "_model_module": "@jupyter-widgets/base",
            "top": null,
            "grid_column": null,
            "overflow_y": null,
            "overflow_x": null,
            "grid_auto_flow": null,
            "grid_area": null,
            "grid_template_columns": null,
            "flex": null,
            "_model_name": "LayoutModel",
            "justify_items": null,
            "grid_row": null,
            "max_height": null,
            "align_content": null,
            "visibility": null,
            "align_self": null,
            "height": null,
            "min_height": null,
            "padding": null,
            "grid_auto_rows": null,
            "grid_gap": null,
            "max_width": null,
            "order": null,
            "_view_module_version": "1.2.0",
            "grid_template_areas": null,
            "object_position": null,
            "object_fit": null,
            "grid_auto_columns": null,
            "margin": null,
            "display": null,
            "left": null
          }
        },
        "2c27cb16a2684b08b8b284e60079427e": {
          "model_module": "@jupyter-widgets/controls",
          "model_name": "ProgressStyleModel",
          "model_module_version": "1.5.0",
          "state": {
            "_view_name": "StyleView",
            "_model_name": "ProgressStyleModel",
            "description_width": "",
            "_view_module": "@jupyter-widgets/base",
            "_model_module_version": "1.5.0",
            "_view_count": null,
            "_view_module_version": "1.2.0",
            "bar_color": null,
            "_model_module": "@jupyter-widgets/controls"
          }
        },
        "c01ad582722f4a26a56b2f86dc562d8a": {
          "model_module": "@jupyter-widgets/base",
          "model_name": "LayoutModel",
          "model_module_version": "1.2.0",
          "state": {
            "_view_name": "LayoutView",
            "grid_template_rows": null,
            "right": null,
            "justify_content": null,
            "_view_module": "@jupyter-widgets/base",
            "overflow": null,
            "_model_module_version": "1.2.0",
            "_view_count": null,
            "flex_flow": null,
            "width": null,
            "min_width": null,
            "border": null,
            "align_items": null,
            "bottom": null,
            "_model_module": "@jupyter-widgets/base",
            "top": null,
            "grid_column": null,
            "overflow_y": null,
            "overflow_x": null,
            "grid_auto_flow": null,
            "grid_area": null,
            "grid_template_columns": null,
            "flex": null,
            "_model_name": "LayoutModel",
            "justify_items": null,
            "grid_row": null,
            "max_height": null,
            "align_content": null,
            "visibility": null,
            "align_self": null,
            "height": null,
            "min_height": null,
            "padding": null,
            "grid_auto_rows": null,
            "grid_gap": null,
            "max_width": null,
            "order": null,
            "_view_module_version": "1.2.0",
            "grid_template_areas": null,
            "object_position": null,
            "object_fit": null,
            "grid_auto_columns": null,
            "margin": null,
            "display": null,
            "left": null
          }
        },
        "0f155a8fd3214edfaff4d860fc32690c": {
          "model_module": "@jupyter-widgets/controls",
          "model_name": "DescriptionStyleModel",
          "model_module_version": "1.5.0",
          "state": {
            "_view_name": "StyleView",
            "_model_name": "DescriptionStyleModel",
            "description_width": "",
            "_view_module": "@jupyter-widgets/base",
            "_model_module_version": "1.5.0",
            "_view_count": null,
            "_view_module_version": "1.2.0",
            "_model_module": "@jupyter-widgets/controls"
          }
        },
        "6f350e48bf6d4cd28190b507b9f4bbfa": {
          "model_module": "@jupyter-widgets/base",
          "model_name": "LayoutModel",
          "model_module_version": "1.2.0",
          "state": {
            "_view_name": "LayoutView",
            "grid_template_rows": null,
            "right": null,
            "justify_content": null,
            "_view_module": "@jupyter-widgets/base",
            "overflow": null,
            "_model_module_version": "1.2.0",
            "_view_count": null,
            "flex_flow": null,
            "width": null,
            "min_width": null,
            "border": null,
            "align_items": null,
            "bottom": null,
            "_model_module": "@jupyter-widgets/base",
            "top": null,
            "grid_column": null,
            "overflow_y": null,
            "overflow_x": null,
            "grid_auto_flow": null,
            "grid_area": null,
            "grid_template_columns": null,
            "flex": null,
            "_model_name": "LayoutModel",
            "justify_items": null,
            "grid_row": null,
            "max_height": null,
            "align_content": null,
            "visibility": null,
            "align_self": null,
            "height": null,
            "min_height": null,
            "padding": null,
            "grid_auto_rows": null,
            "grid_gap": null,
            "max_width": null,
            "order": null,
            "_view_module_version": "1.2.0",
            "grid_template_areas": null,
            "object_position": null,
            "object_fit": null,
            "grid_auto_columns": null,
            "margin": null,
            "display": null,
            "left": null
          }
        }
      }
    }
  },
  "cells": [
    {
      "cell_type": "markdown",
      "metadata": {
        "id": "view-in-github",
        "colab_type": "text"
      },
      "source": [
        "<a href=\"https://colab.research.google.com/github/VolcanicSalmon/tlverse/blob/master/Untitled16.ipynb\" target=\"_parent\"><img src=\"https://colab.research.google.com/assets/colab-badge.svg\" alt=\"Open In Colab\"/></a>"
      ]
    },
    {
      "cell_type": "code",
      "source": [
        "from glob import glob \n",
        "import earthpy as et \n",
        "import earthpy.spatial as es\n",
        "import earthpy.plot as ep \n",
        "import rasterio as rio \n",
        "import plotly.graph_objects as go \n",
        "bands=glob('/content/L1C_T16PDV_A004456_20180112T162608.tif')\n",
        "bands.sort()"
      ],
      "metadata": {
        "id": "tGy13zNqYOcR"
      },
      "execution_count": 16,
      "outputs": []
    },
    {
      "cell_type": "code",
      "source": [
        "import sentinelsat \n",
        "from sentinelsat import SentinelAPI\n",
        "user='whycantidieeee'\n",
        "password='L971212k'\n",
        "api=SentinelAPI(user,password,'http://scihub.copernicus.eu/dhus')"
      ],
      "metadata": {
        "id": "j5biRXyiq9i7"
      },
      "execution_count": 42,
      "outputs": []
    },
    {
      "cell_type": "code",
      "source": [
        "api.download('679cae44-9222-4bf1-96ba-d8081510835c')"
      ],
      "metadata": {
        "colab": {
          "base_uri": "https://localhost:8080/",
          "height": 333,
          "referenced_widgets": [
            "ded47ef4aece44ce842280b4e62c7c61",
            "72b03310aa6b4148b195c8c5d4a6ac0c",
            "3f259ab9d53445afb7165c8d9191eebb",
            "9fafc7dac1b64fe09144a3f0ef9b2305",
            "1e645a9ca6f34d53b3925b312cc1962a",
            "14439ae9fbd34ffaa0540d16069e45da",
            "20069fb1b1b0447aa5c1242b1ff3cde0",
            "f56995d9e54548898b2c52c308a8d0bb",
            "376c145f106642dbaaad20cb5da30eda",
            "d9f04dd0049244c8b77233926c721b45",
            "3c0c8040ca594d6e9ebfff5baa27fad6",
            "0208f8aed073475f9bec9df2ca3500e8",
            "9d88c95271234ff69569e10bfade9356",
            "b4e24926837949afa8dbec42fac00793",
            "b0ecdc1204e04a18bee7698148b29ab1",
            "f4aba963201449eb9fb90b63bc5e8d41",
            "7c534b76913f485e8fe65f64550521b2",
            "59582de7462f45d29003f10fb345aa4b",
            "09d4a75592c544a08a432918c57c066a",
            "47d8ab5006944f5a96bf2ed41f827221",
            "386893f189a746f1b4ea6315d0d22e88",
            "3090aab5ad5f4b6db688c16d7afe4e14"
          ]
        },
        "id": "ULsTn6t2rPvy",
        "outputId": "3d543e5f-9533-46c5-cb3e-4bffb54f0e18"
      },
      "execution_count": 54,
      "outputs": [
        {
          "output_type": "display_data",
          "data": {
            "application/vnd.jupyter.widget-view+json": {
              "model_id": "ded47ef4aece44ce842280b4e62c7c61",
              "version_minor": 0,
              "version_major": 2
            },
            "text/plain": [
              "Downloading S2A_MSIL1C_20210809T160901_N0301_R140_T16PDV_20210809T221649.zip:   0%|          | 0.00/806M [00:0…"
            ]
          },
          "metadata": {}
        },
        {
          "output_type": "display_data",
          "data": {
            "application/vnd.jupyter.widget-view+json": {
              "model_id": "0208f8aed073475f9bec9df2ca3500e8",
              "version_minor": 0,
              "version_major": 2
            },
            "text/plain": [
              "MD5 checksumming:   0%|          | 0.00/806M [00:00<?, ?B/s]"
            ]
          },
          "metadata": {}
        },
        {
          "output_type": "execute_result",
          "data": {
            "text/plain": [
              "{'Creation Date': datetime.datetime(2021, 8, 9, 23, 37, 5, 582000),\n",
              " 'Ingestion Date': datetime.datetime(2021, 8, 9, 23, 36, 23, 901000),\n",
              " 'Online': True,\n",
              " 'date': datetime.datetime(2021, 8, 9, 16, 9, 1, 24000),\n",
              " 'downloaded_bytes': 806483208,\n",
              " 'footprint': 'POLYGON((-87.92462 13.566738958980503,-86.90979 13.568434978835024,-86.91016 12.57555163480923,-87.92096 12.573983802224875,-87.92462 13.566738958980503))',\n",
              " 'id': '679cae44-9222-4bf1-96ba-d8081510835c',\n",
              " 'md5': '6733f7f6bfa0a3b16dd434c9e277f65d',\n",
              " 'path': 'S2A_MSIL1C_20210809T160901_N0301_R140_T16PDV_20210809T221649.zip',\n",
              " 'quicklook_url': \"http://scihub.copernicus.eu/dhus/odata/v1/Products('679cae44-9222-4bf1-96ba-d8081510835c')/Products('Quicklook')/$value\",\n",
              " 'size': 806483208,\n",
              " 'title': 'S2A_MSIL1C_20210809T160901_N0301_R140_T16PDV_20210809T221649',\n",
              " 'url': \"https://scihub.copernicus.eu/dhus/odata/v1/Products('679cae44-9222-4bf1-96ba-d8081510835c')/$value\"}"
            ]
          },
          "metadata": {},
          "execution_count": 54
        }
      ]
    },
    {
      "cell_type": "code",
      "source": [
        "!unzip /content/S2A_MSIL1C_20210809T160901_N0301_R140_T16PDV_20210809T221649.zip"
      ],
      "metadata": {
        "colab": {
          "base_uri": "https://localhost:8080/"
        },
        "id": "yrYpUqU-rR_t",
        "outputId": "16826642-dad3-4fcf-be04-2d807667e4c2"
      },
      "execution_count": 55,
      "outputs": [
        {
          "output_type": "stream",
          "name": "stdout",
          "text": [
            "Archive:  /content/S2A_MSIL1C_20210809T160901_N0301_R140_T16PDV_20210809T221649.zip\n",
            "   creating: S2A_MSIL1C_20210809T160901_N0301_R140_T16PDV_20210809T221649.SAFE/\n",
            " extracting: S2A_MSIL1C_20210809T160901_N0301_R140_T16PDV_20210809T221649.SAFE/MTD_MSIL1C.xml  \n",
            " extracting: S2A_MSIL1C_20210809T160901_N0301_R140_T16PDV_20210809T221649.SAFE/INSPIRE.xml  \n",
            " extracting: S2A_MSIL1C_20210809T160901_N0301_R140_T16PDV_20210809T221649.SAFE/manifest.safe  \n",
            "   creating: S2A_MSIL1C_20210809T160901_N0301_R140_T16PDV_20210809T221649.SAFE/HTML/\n",
            "   creating: S2A_MSIL1C_20210809T160901_N0301_R140_T16PDV_20210809T221649.SAFE/rep_info/\n",
            "   creating: S2A_MSIL1C_20210809T160901_N0301_R140_T16PDV_20210809T221649.SAFE/DATASTRIP/\n",
            "   creating: S2A_MSIL1C_20210809T160901_N0301_R140_T16PDV_20210809T221649.SAFE/AUX_DATA/\n",
            "   creating: S2A_MSIL1C_20210809T160901_N0301_R140_T16PDV_20210809T221649.SAFE/GRANULE/\n",
            " extracting: S2A_MSIL1C_20210809T160901_N0301_R140_T16PDV_20210809T221649.SAFE/HTML/star_bg.jpg  \n",
            " extracting: S2A_MSIL1C_20210809T160901_N0301_R140_T16PDV_20210809T221649.SAFE/HTML/UserProduct_index.html  \n",
            " extracting: S2A_MSIL1C_20210809T160901_N0301_R140_T16PDV_20210809T221649.SAFE/HTML/UserProduct_index.xsl  \n",
            " extracting: S2A_MSIL1C_20210809T160901_N0301_R140_T16PDV_20210809T221649.SAFE/HTML/banner_1.png  \n",
            " extracting: S2A_MSIL1C_20210809T160901_N0301_R140_T16PDV_20210809T221649.SAFE/HTML/banner_2.png  \n",
            " extracting: S2A_MSIL1C_20210809T160901_N0301_R140_T16PDV_20210809T221649.SAFE/HTML/banner_3.png  \n",
            " extracting: S2A_MSIL1C_20210809T160901_N0301_R140_T16PDV_20210809T221649.SAFE/rep_info/S2_User_Product_Level-1C_Metadata.xsd  \n",
            "   creating: S2A_MSIL1C_20210809T160901_N0301_R140_T16PDV_20210809T221649.SAFE/DATASTRIP/DS_VGS2_20210809T221649_S20210809T162326/\n",
            " extracting: S2A_MSIL1C_20210809T160901_N0301_R140_T16PDV_20210809T221649.SAFE/DATASTRIP/DS_VGS2_20210809T221649_S20210809T162326/MTD_DS.xml  \n",
            "   creating: S2A_MSIL1C_20210809T160901_N0301_R140_T16PDV_20210809T221649.SAFE/DATASTRIP/DS_VGS2_20210809T221649_S20210809T162326/QI_DATA/\n",
            " extracting: S2A_MSIL1C_20210809T160901_N0301_R140_T16PDV_20210809T221649.SAFE/DATASTRIP/DS_VGS2_20210809T221649_S20210809T162326/QI_DATA/GEOMETRIC_QUALITY.xml  \n",
            " extracting: S2A_MSIL1C_20210809T160901_N0301_R140_T16PDV_20210809T221649.SAFE/DATASTRIP/DS_VGS2_20210809T221649_S20210809T162326/QI_DATA/FORMAT_CORRECTNESS.xml  \n",
            " extracting: S2A_MSIL1C_20210809T160901_N0301_R140_T16PDV_20210809T221649.SAFE/DATASTRIP/DS_VGS2_20210809T221649_S20210809T162326/QI_DATA/GENERAL_QUALITY.xml  \n",
            " extracting: S2A_MSIL1C_20210809T160901_N0301_R140_T16PDV_20210809T221649.SAFE/DATASTRIP/DS_VGS2_20210809T221649_S20210809T162326/QI_DATA/RADIOMETRIC_QUALITY.xml  \n",
            " extracting: S2A_MSIL1C_20210809T160901_N0301_R140_T16PDV_20210809T221649.SAFE/DATASTRIP/DS_VGS2_20210809T221649_S20210809T162326/QI_DATA/SENSOR_QUALITY.xml  \n",
            "   creating: S2A_MSIL1C_20210809T160901_N0301_R140_T16PDV_20210809T221649.SAFE/GRANULE/L1C_T16PDV_A032026_20210809T162326/\n",
            " extracting: S2A_MSIL1C_20210809T160901_N0301_R140_T16PDV_20210809T221649.SAFE/GRANULE/L1C_T16PDV_A032026_20210809T162326/MTD_TL.xml  \n",
            "   creating: S2A_MSIL1C_20210809T160901_N0301_R140_T16PDV_20210809T221649.SAFE/GRANULE/L1C_T16PDV_A032026_20210809T162326/AUX_DATA/\n",
            "   creating: S2A_MSIL1C_20210809T160901_N0301_R140_T16PDV_20210809T221649.SAFE/GRANULE/L1C_T16PDV_A032026_20210809T162326/QI_DATA/\n",
            "   creating: S2A_MSIL1C_20210809T160901_N0301_R140_T16PDV_20210809T221649.SAFE/GRANULE/L1C_T16PDV_A032026_20210809T162326/IMG_DATA/\n",
            " extracting: S2A_MSIL1C_20210809T160901_N0301_R140_T16PDV_20210809T221649.SAFE/GRANULE/L1C_T16PDV_A032026_20210809T162326/AUX_DATA/AUX_ECMWFT  \n",
            " extracting: S2A_MSIL1C_20210809T160901_N0301_R140_T16PDV_20210809T221649.SAFE/GRANULE/L1C_T16PDV_A032026_20210809T162326/QI_DATA/MSK_SATURA_B10.gml  \n",
            " extracting: S2A_MSIL1C_20210809T160901_N0301_R140_T16PDV_20210809T221649.SAFE/GRANULE/L1C_T16PDV_A032026_20210809T162326/QI_DATA/MSK_NODATA_B8A.gml  \n",
            " extracting: S2A_MSIL1C_20210809T160901_N0301_R140_T16PDV_20210809T221649.SAFE/GRANULE/L1C_T16PDV_A032026_20210809T162326/QI_DATA/MSK_TECQUA_B12.gml  \n",
            " extracting: S2A_MSIL1C_20210809T160901_N0301_R140_T16PDV_20210809T221649.SAFE/GRANULE/L1C_T16PDV_A032026_20210809T162326/QI_DATA/MSK_DETFOO_B10.gml  \n",
            " extracting: S2A_MSIL1C_20210809T160901_N0301_R140_T16PDV_20210809T221649.SAFE/GRANULE/L1C_T16PDV_A032026_20210809T162326/QI_DATA/MSK_NODATA_B07.gml  \n",
            " extracting: S2A_MSIL1C_20210809T160901_N0301_R140_T16PDV_20210809T221649.SAFE/GRANULE/L1C_T16PDV_A032026_20210809T162326/QI_DATA/MSK_NODATA_B09.gml  \n",
            " extracting: S2A_MSIL1C_20210809T160901_N0301_R140_T16PDV_20210809T221649.SAFE/GRANULE/L1C_T16PDV_A032026_20210809T162326/QI_DATA/MSK_DETFOO_B08.gml  \n",
            " extracting: S2A_MSIL1C_20210809T160901_N0301_R140_T16PDV_20210809T221649.SAFE/GRANULE/L1C_T16PDV_A032026_20210809T162326/QI_DATA/MSK_DETFOO_B01.gml  \n",
            " extracting: S2A_MSIL1C_20210809T160901_N0301_R140_T16PDV_20210809T221649.SAFE/GRANULE/L1C_T16PDV_A032026_20210809T162326/QI_DATA/MSK_TECQUA_B03.gml  \n",
            " extracting: S2A_MSIL1C_20210809T160901_N0301_R140_T16PDV_20210809T221649.SAFE/GRANULE/L1C_T16PDV_A032026_20210809T162326/QI_DATA/MSK_DEFECT_B05.gml  \n",
            " extracting: S2A_MSIL1C_20210809T160901_N0301_R140_T16PDV_20210809T221649.SAFE/GRANULE/L1C_T16PDV_A032026_20210809T162326/QI_DATA/MSK_DEFECT_B02.gml  \n",
            " extracting: S2A_MSIL1C_20210809T160901_N0301_R140_T16PDV_20210809T221649.SAFE/GRANULE/L1C_T16PDV_A032026_20210809T162326/QI_DATA/MSK_NODATA_B11.gml  \n",
            " extracting: S2A_MSIL1C_20210809T160901_N0301_R140_T16PDV_20210809T221649.SAFE/GRANULE/L1C_T16PDV_A032026_20210809T162326/QI_DATA/MSK_TECQUA_B04.gml  \n",
            " extracting: S2A_MSIL1C_20210809T160901_N0301_R140_T16PDV_20210809T221649.SAFE/GRANULE/L1C_T16PDV_A032026_20210809T162326/QI_DATA/MSK_DETFOO_B06.gml  \n",
            " extracting: S2A_MSIL1C_20210809T160901_N0301_R140_T16PDV_20210809T221649.SAFE/GRANULE/L1C_T16PDV_A032026_20210809T162326/QI_DATA/FORMAT_CORRECTNESS.xml  \n",
            " extracting: S2A_MSIL1C_20210809T160901_N0301_R140_T16PDV_20210809T221649.SAFE/GRANULE/L1C_T16PDV_A032026_20210809T162326/QI_DATA/MSK_SATURA_B08.gml  \n",
            " extracting: S2A_MSIL1C_20210809T160901_N0301_R140_T16PDV_20210809T221649.SAFE/GRANULE/L1C_T16PDV_A032026_20210809T162326/QI_DATA/MSK_SATURA_B06.gml  \n",
            " extracting: S2A_MSIL1C_20210809T160901_N0301_R140_T16PDV_20210809T221649.SAFE/GRANULE/L1C_T16PDV_A032026_20210809T162326/QI_DATA/MSK_SATURA_B01.gml  \n",
            " extracting: S2A_MSIL1C_20210809T160901_N0301_R140_T16PDV_20210809T221649.SAFE/GRANULE/L1C_T16PDV_A032026_20210809T162326/QI_DATA/MSK_NODATA_B08.gml  \n",
            " extracting: S2A_MSIL1C_20210809T160901_N0301_R140_T16PDV_20210809T221649.SAFE/GRANULE/L1C_T16PDV_A032026_20210809T162326/QI_DATA/MSK_DETFOO_B11.gml  \n",
            " extracting: S2A_MSIL1C_20210809T160901_N0301_R140_T16PDV_20210809T221649.SAFE/GRANULE/L1C_T16PDV_A032026_20210809T162326/QI_DATA/MSK_NODATA_B06.gml  \n",
            " extracting: S2A_MSIL1C_20210809T160901_N0301_R140_T16PDV_20210809T221649.SAFE/GRANULE/L1C_T16PDV_A032026_20210809T162326/QI_DATA/MSK_DEFECT_B12.gml  \n",
            " extracting: S2A_MSIL1C_20210809T160901_N0301_R140_T16PDV_20210809T221649.SAFE/GRANULE/L1C_T16PDV_A032026_20210809T162326/QI_DATA/MSK_NODATA_B01.gml  \n",
            " extracting: S2A_MSIL1C_20210809T160901_N0301_R140_T16PDV_20210809T221649.SAFE/GRANULE/L1C_T16PDV_A032026_20210809T162326/QI_DATA/MSK_SATURA_B11.gml  \n",
            " extracting: S2A_MSIL1C_20210809T160901_N0301_R140_T16PDV_20210809T221649.SAFE/GRANULE/L1C_T16PDV_A032026_20210809T162326/QI_DATA/MSK_DETFOO_B8A.gml  \n",
            " extracting: S2A_MSIL1C_20210809T160901_N0301_R140_T16PDV_20210809T221649.SAFE/GRANULE/L1C_T16PDV_A032026_20210809T162326/QI_DATA/MSK_SATURA_B07.gml  \n",
            " extracting: S2A_MSIL1C_20210809T160901_N0301_R140_T16PDV_20210809T221649.SAFE/GRANULE/L1C_T16PDV_A032026_20210809T162326/QI_DATA/MSK_SATURA_B09.gml  \n",
            " extracting: S2A_MSIL1C_20210809T160901_N0301_R140_T16PDV_20210809T221649.SAFE/GRANULE/L1C_T16PDV_A032026_20210809T162326/QI_DATA/GEOMETRIC_QUALITY.xml  \n",
            " extracting: S2A_MSIL1C_20210809T160901_N0301_R140_T16PDV_20210809T221649.SAFE/GRANULE/L1C_T16PDV_A032026_20210809T162326/QI_DATA/GENERAL_QUALITY.xml  \n",
            " extracting: S2A_MSIL1C_20210809T160901_N0301_R140_T16PDV_20210809T221649.SAFE/GRANULE/L1C_T16PDV_A032026_20210809T162326/QI_DATA/MSK_DEFECT_B03.gml  \n",
            " extracting: S2A_MSIL1C_20210809T160901_N0301_R140_T16PDV_20210809T221649.SAFE/GRANULE/L1C_T16PDV_A032026_20210809T162326/QI_DATA/MSK_NODATA_B10.gml  \n",
            " extracting: S2A_MSIL1C_20210809T160901_N0301_R140_T16PDV_20210809T221649.SAFE/GRANULE/L1C_T16PDV_A032026_20210809T162326/QI_DATA/MSK_DETFOO_B07.gml  \n",
            " extracting: S2A_MSIL1C_20210809T160901_N0301_R140_T16PDV_20210809T221649.SAFE/GRANULE/L1C_T16PDV_A032026_20210809T162326/QI_DATA/MSK_TECQUA_B05.gml  \n",
            " extracting: S2A_MSIL1C_20210809T160901_N0301_R140_T16PDV_20210809T221649.SAFE/GRANULE/L1C_T16PDV_A032026_20210809T162326/QI_DATA/MSK_TECQUA_B02.gml  \n",
            " extracting: S2A_MSIL1C_20210809T160901_N0301_R140_T16PDV_20210809T221649.SAFE/GRANULE/L1C_T16PDV_A032026_20210809T162326/QI_DATA/MSK_SATURA_B8A.gml  \n",
            " extracting: S2A_MSIL1C_20210809T160901_N0301_R140_T16PDV_20210809T221649.SAFE/GRANULE/L1C_T16PDV_A032026_20210809T162326/QI_DATA/MSK_DEFECT_B04.gml  \n",
            " extracting: S2A_MSIL1C_20210809T160901_N0301_R140_T16PDV_20210809T221649.SAFE/GRANULE/L1C_T16PDV_A032026_20210809T162326/QI_DATA/MSK_DETFOO_B09.gml  \n",
            " extracting: S2A_MSIL1C_20210809T160901_N0301_R140_T16PDV_20210809T221649.SAFE/GRANULE/L1C_T16PDV_A032026_20210809T162326/QI_DATA/MSK_DEFECT_B8A.gml  \n",
            " extracting: S2A_MSIL1C_20210809T160901_N0301_R140_T16PDV_20210809T221649.SAFE/GRANULE/L1C_T16PDV_A032026_20210809T162326/QI_DATA/MSK_SATURA_B04.gml  \n",
            " extracting: S2A_MSIL1C_20210809T160901_N0301_R140_T16PDV_20210809T221649.SAFE/GRANULE/L1C_T16PDV_A032026_20210809T162326/QI_DATA/MSK_SATURA_B03.gml  \n",
            " extracting: S2A_MSIL1C_20210809T160901_N0301_R140_T16PDV_20210809T221649.SAFE/GRANULE/L1C_T16PDV_A032026_20210809T162326/QI_DATA/MSK_CLOUDS_B00.gml  \n",
            " extracting: S2A_MSIL1C_20210809T160901_N0301_R140_T16PDV_20210809T221649.SAFE/GRANULE/L1C_T16PDV_A032026_20210809T162326/QI_DATA/MSK_TECQUA_B01.gml  \n",
            " extracting: S2A_MSIL1C_20210809T160901_N0301_R140_T16PDV_20210809T221649.SAFE/GRANULE/L1C_T16PDV_A032026_20210809T162326/QI_DATA/MSK_DETFOO_B03.gml  \n",
            " extracting: S2A_MSIL1C_20210809T160901_N0301_R140_T16PDV_20210809T221649.SAFE/GRANULE/L1C_T16PDV_A032026_20210809T162326/QI_DATA/MSK_DEFECT_B07.gml  \n",
            " extracting: S2A_MSIL1C_20210809T160901_N0301_R140_T16PDV_20210809T221649.SAFE/GRANULE/L1C_T16PDV_A032026_20210809T162326/QI_DATA/MSK_DETFOO_B04.gml  \n",
            " extracting: S2A_MSIL1C_20210809T160901_N0301_R140_T16PDV_20210809T221649.SAFE/GRANULE/L1C_T16PDV_A032026_20210809T162326/QI_DATA/MSK_TECQUA_B06.gml  \n",
            " extracting: S2A_MSIL1C_20210809T160901_N0301_R140_T16PDV_20210809T221649.SAFE/GRANULE/L1C_T16PDV_A032026_20210809T162326/QI_DATA/MSK_TECQUA_B08.gml  \n",
            " extracting: S2A_MSIL1C_20210809T160901_N0301_R140_T16PDV_20210809T221649.SAFE/GRANULE/L1C_T16PDV_A032026_20210809T162326/QI_DATA/MSK_DEFECT_B09.gml  \n",
            " extracting: S2A_MSIL1C_20210809T160901_N0301_R140_T16PDV_20210809T221649.SAFE/GRANULE/L1C_T16PDV_A032026_20210809T162326/QI_DATA/SENSOR_QUALITY.xml  \n",
            " extracting: S2A_MSIL1C_20210809T160901_N0301_R140_T16PDV_20210809T221649.SAFE/GRANULE/L1C_T16PDV_A032026_20210809T162326/QI_DATA/MSK_NODATA_B02.gml  \n",
            " extracting: S2A_MSIL1C_20210809T160901_N0301_R140_T16PDV_20210809T221649.SAFE/GRANULE/L1C_T16PDV_A032026_20210809T162326/QI_DATA/MSK_DEFECT_B11.gml  \n",
            " extracting: S2A_MSIL1C_20210809T160901_N0301_R140_T16PDV_20210809T221649.SAFE/GRANULE/L1C_T16PDV_A032026_20210809T162326/QI_DATA/MSK_DETFOO_B12.gml  \n",
            " extracting: S2A_MSIL1C_20210809T160901_N0301_R140_T16PDV_20210809T221649.SAFE/GRANULE/L1C_T16PDV_A032026_20210809T162326/QI_DATA/MSK_TECQUA_B10.gml  \n",
            " extracting: S2A_MSIL1C_20210809T160901_N0301_R140_T16PDV_20210809T221649.SAFE/GRANULE/L1C_T16PDV_A032026_20210809T162326/QI_DATA/MSK_NODATA_B05.gml  \n",
            " extracting: S2A_MSIL1C_20210809T160901_N0301_R140_T16PDV_20210809T221649.SAFE/GRANULE/L1C_T16PDV_A032026_20210809T162326/QI_DATA/MSK_SATURA_B12.gml  \n",
            " extracting: S2A_MSIL1C_20210809T160901_N0301_R140_T16PDV_20210809T221649.SAFE/GRANULE/L1C_T16PDV_A032026_20210809T162326/QI_DATA/MSK_DEFECT_B08.gml  \n",
            " extracting: S2A_MSIL1C_20210809T160901_N0301_R140_T16PDV_20210809T221649.SAFE/GRANULE/L1C_T16PDV_A032026_20210809T162326/QI_DATA/MSK_TECQUA_B09.gml  \n",
            " extracting: S2A_MSIL1C_20210809T160901_N0301_R140_T16PDV_20210809T221649.SAFE/GRANULE/L1C_T16PDV_A032026_20210809T162326/QI_DATA/MSK_NODATA_B12.gml  \n",
            " extracting: S2A_MSIL1C_20210809T160901_N0301_R140_T16PDV_20210809T221649.SAFE/GRANULE/L1C_T16PDV_A032026_20210809T162326/QI_DATA/MSK_DEFECT_B01.gml  \n",
            " extracting: S2A_MSIL1C_20210809T160901_N0301_R140_T16PDV_20210809T221649.SAFE/GRANULE/L1C_T16PDV_A032026_20210809T162326/QI_DATA/MSK_TECQUA_B07.gml  \n",
            " extracting: S2A_MSIL1C_20210809T160901_N0301_R140_T16PDV_20210809T221649.SAFE/GRANULE/L1C_T16PDV_A032026_20210809T162326/QI_DATA/MSK_DETFOO_B05.gml  \n",
            " extracting: S2A_MSIL1C_20210809T160901_N0301_R140_T16PDV_20210809T221649.SAFE/GRANULE/L1C_T16PDV_A032026_20210809T162326/QI_DATA/MSK_DETFOO_B02.gml  \n",
            " extracting: S2A_MSIL1C_20210809T160901_N0301_R140_T16PDV_20210809T221649.SAFE/GRANULE/L1C_T16PDV_A032026_20210809T162326/QI_DATA/MSK_DEFECT_B06.gml  \n",
            " extracting: S2A_MSIL1C_20210809T160901_N0301_R140_T16PDV_20210809T221649.SAFE/GRANULE/L1C_T16PDV_A032026_20210809T162326/QI_DATA/MSK_TECQUA_B8A.gml  \n",
            " extracting: S2A_MSIL1C_20210809T160901_N0301_R140_T16PDV_20210809T221649.SAFE/GRANULE/L1C_T16PDV_A032026_20210809T162326/QI_DATA/MSK_SATURA_B02.gml  \n",
            " extracting: S2A_MSIL1C_20210809T160901_N0301_R140_T16PDV_20210809T221649.SAFE/GRANULE/L1C_T16PDV_A032026_20210809T162326/QI_DATA/MSK_SATURA_B05.gml  \n",
            " extracting: S2A_MSIL1C_20210809T160901_N0301_R140_T16PDV_20210809T221649.SAFE/GRANULE/L1C_T16PDV_A032026_20210809T162326/QI_DATA/MSK_TECQUA_B11.gml  \n",
            " extracting: S2A_MSIL1C_20210809T160901_N0301_R140_T16PDV_20210809T221649.SAFE/GRANULE/L1C_T16PDV_A032026_20210809T162326/QI_DATA/MSK_NODATA_B04.gml  \n",
            " extracting: S2A_MSIL1C_20210809T160901_N0301_R140_T16PDV_20210809T221649.SAFE/GRANULE/L1C_T16PDV_A032026_20210809T162326/QI_DATA/MSK_NODATA_B03.gml  \n",
            " extracting: S2A_MSIL1C_20210809T160901_N0301_R140_T16PDV_20210809T221649.SAFE/GRANULE/L1C_T16PDV_A032026_20210809T162326/QI_DATA/MSK_DEFECT_B10.gml  \n",
            " extracting: S2A_MSIL1C_20210809T160901_N0301_R140_T16PDV_20210809T221649.SAFE/GRANULE/L1C_T16PDV_A032026_20210809T162326/QI_DATA/T16PDV_20210809T160901_PVI.jp2  \n",
            " extracting: S2A_MSIL1C_20210809T160901_N0301_R140_T16PDV_20210809T221649.SAFE/GRANULE/L1C_T16PDV_A032026_20210809T162326/IMG_DATA/T16PDV_20210809T160901_TCI.jp2  \n",
            " extracting: S2A_MSIL1C_20210809T160901_N0301_R140_T16PDV_20210809T221649.SAFE/GRANULE/L1C_T16PDV_A032026_20210809T162326/IMG_DATA/T16PDV_20210809T160901_B05.jp2  \n",
            " extracting: S2A_MSIL1C_20210809T160901_N0301_R140_T16PDV_20210809T221649.SAFE/GRANULE/L1C_T16PDV_A032026_20210809T162326/IMG_DATA/T16PDV_20210809T160901_B02.jp2  \n",
            " extracting: S2A_MSIL1C_20210809T160901_N0301_R140_T16PDV_20210809T221649.SAFE/GRANULE/L1C_T16PDV_A032026_20210809T162326/IMG_DATA/T16PDV_20210809T160901_B12.jp2  \n",
            " extracting: S2A_MSIL1C_20210809T160901_N0301_R140_T16PDV_20210809T221649.SAFE/GRANULE/L1C_T16PDV_A032026_20210809T162326/IMG_DATA/T16PDV_20210809T160901_B03.jp2  \n",
            " extracting: S2A_MSIL1C_20210809T160901_N0301_R140_T16PDV_20210809T221649.SAFE/GRANULE/L1C_T16PDV_A032026_20210809T162326/IMG_DATA/T16PDV_20210809T160901_B04.jp2  \n",
            " extracting: S2A_MSIL1C_20210809T160901_N0301_R140_T16PDV_20210809T221649.SAFE/GRANULE/L1C_T16PDV_A032026_20210809T162326/IMG_DATA/T16PDV_20210809T160901_B8A.jp2  \n",
            " extracting: S2A_MSIL1C_20210809T160901_N0301_R140_T16PDV_20210809T221649.SAFE/GRANULE/L1C_T16PDV_A032026_20210809T162326/IMG_DATA/T16PDV_20210809T160901_B07.jp2  \n",
            " extracting: S2A_MSIL1C_20210809T160901_N0301_R140_T16PDV_20210809T221649.SAFE/GRANULE/L1C_T16PDV_A032026_20210809T162326/IMG_DATA/T16PDV_20210809T160901_B09.jp2  \n",
            " extracting: S2A_MSIL1C_20210809T160901_N0301_R140_T16PDV_20210809T221649.SAFE/GRANULE/L1C_T16PDV_A032026_20210809T162326/IMG_DATA/T16PDV_20210809T160901_B11.jp2  \n",
            " extracting: S2A_MSIL1C_20210809T160901_N0301_R140_T16PDV_20210809T221649.SAFE/GRANULE/L1C_T16PDV_A032026_20210809T162326/IMG_DATA/T16PDV_20210809T160901_B08.jp2  \n",
            " extracting: S2A_MSIL1C_20210809T160901_N0301_R140_T16PDV_20210809T221649.SAFE/GRANULE/L1C_T16PDV_A032026_20210809T162326/IMG_DATA/T16PDV_20210809T160901_B01.jp2  \n",
            " extracting: S2A_MSIL1C_20210809T160901_N0301_R140_T16PDV_20210809T221649.SAFE/GRANULE/L1C_T16PDV_A032026_20210809T162326/IMG_DATA/T16PDV_20210809T160901_B06.jp2  \n",
            " extracting: S2A_MSIL1C_20210809T160901_N0301_R140_T16PDV_20210809T221649.SAFE/GRANULE/L1C_T16PDV_A032026_20210809T162326/IMG_DATA/T16PDV_20210809T160901_B10.jp2  \n"
          ]
        }
      ]
    },
    {
      "cell_type": "code",
      "source": [
        "api.download('d076f9b1-b27f-40a3-8a92-2ef97ce4fc68')"
      ],
      "metadata": {
        "colab": {
          "base_uri": "https://localhost:8080/",
          "height": 333,
          "referenced_widgets": [
            "00cff2e907b145b48761bd63f192e009",
            "d92f241f60ad4cbaa469c641b0120b15",
            "7341a1bfe1d74d4eb6ef841bca6776cb",
            "d23c0944b7764086b4ee0ca08e4ac428",
            "4d7b9b3268a647888eed1b88d6bbd750",
            "ab2eea37b25a4d929a2a79dd5480ad66",
            "a6623a010c944e9381b371e710dfbf56",
            "634d44d711594ddc8e0b265cf054332e",
            "b4918a2f3fe34678926e456e50d63ee5",
            "fac78c29344d460cbe6904e92d7b4ef6",
            "0ae51d71a79d4abe8f1f019c71b08a6d",
            "bf640210b1e144009bc86aed5c902b28",
            "735baa6edb3b41fc9267f672736ce82c",
            "606637757a4a4235b8bb53f7d4ced89e",
            "153d334d4c9c4bc7b5876811fab56858",
            "bec733b2dbc54651a7448da217d41966",
            "de690a3f67bc435c84d2d4f104edf2ff",
            "b9ca569a72c84bf0b54fb507d8ea8ead",
            "2c27cb16a2684b08b8b284e60079427e",
            "c01ad582722f4a26a56b2f86dc562d8a",
            "0f155a8fd3214edfaff4d860fc32690c",
            "6f350e48bf6d4cd28190b507b9f4bbfa"
          ]
        },
        "id": "PmwMVlx4Iw60",
        "outputId": "99f9ca17-6c57-4a09-ca7f-a18fc56cab95"
      },
      "execution_count": 58,
      "outputs": [
        {
          "output_type": "display_data",
          "data": {
            "application/vnd.jupyter.widget-view+json": {
              "model_id": "00cff2e907b145b48761bd63f192e009",
              "version_minor": 0,
              "version_major": 2
            },
            "text/plain": [
              "Downloading S2A_MSIL1C_20211227T161701_N0301_R140_T16PDV_20211227T195002.zip:   0%|          | 0.00/747M [00:0…"
            ]
          },
          "metadata": {}
        },
        {
          "output_type": "display_data",
          "data": {
            "application/vnd.jupyter.widget-view+json": {
              "model_id": "bf640210b1e144009bc86aed5c902b28",
              "version_minor": 0,
              "version_major": 2
            },
            "text/plain": [
              "MD5 checksumming:   0%|          | 0.00/747M [00:00<?, ?B/s]"
            ]
          },
          "metadata": {}
        },
        {
          "output_type": "execute_result",
          "data": {
            "text/plain": [
              "{'Creation Date': datetime.datetime(2021, 12, 27, 21, 1, 1, 299000),\n",
              " 'Ingestion Date': datetime.datetime(2021, 12, 27, 21, 0, 52, 22000),\n",
              " 'Online': True,\n",
              " 'date': datetime.datetime(2021, 12, 27, 16, 17, 1, 24000),\n",
              " 'downloaded_bytes': 747396720,\n",
              " 'footprint': 'POLYGON((-87.92462 13.566738958980503,-86.90979 13.568434978835024,-86.91016 12.57555163480923,-87.92096 12.573983802224875,-87.92462 13.566738958980503))',\n",
              " 'id': 'd076f9b1-b27f-40a3-8a92-2ef97ce4fc68',\n",
              " 'md5': '61808df0faf6dad95badd3d78b43fd2d',\n",
              " 'path': 'S2A_MSIL1C_20211227T161701_N0301_R140_T16PDV_20211227T195002.zip',\n",
              " 'quicklook_url': \"http://scihub.copernicus.eu/dhus/odata/v1/Products('d076f9b1-b27f-40a3-8a92-2ef97ce4fc68')/Products('Quicklook')/$value\",\n",
              " 'size': 747396720,\n",
              " 'title': 'S2A_MSIL1C_20211227T161701_N0301_R140_T16PDV_20211227T195002',\n",
              " 'url': \"https://scihub.copernicus.eu/dhus/odata/v1/Products('d076f9b1-b27f-40a3-8a92-2ef97ce4fc68')/$value\"}"
            ]
          },
          "metadata": {},
          "execution_count": 58
        }
      ]
    },
    {
      "cell_type": "code",
      "source": [
        "! unzip /content/S2A_MSIL1C_20211227T161701_N0301_R140_T16PDV_20211227T195002.zip"
      ],
      "metadata": {
        "colab": {
          "base_uri": "https://localhost:8080/"
        },
        "id": "ADX1hYcMJMmG",
        "outputId": "e547e95f-c357-40dc-a84f-38ad21d88d5a"
      },
      "execution_count": 59,
      "outputs": [
        {
          "output_type": "stream",
          "name": "stdout",
          "text": [
            "Archive:  /content/S2A_MSIL1C_20211227T161701_N0301_R140_T16PDV_20211227T195002.zip\n",
            "   creating: S2A_MSIL1C_20211227T161701_N0301_R140_T16PDV_20211227T195002.SAFE/\n",
            " extracting: S2A_MSIL1C_20211227T161701_N0301_R140_T16PDV_20211227T195002.SAFE/manifest.safe  \n",
            " extracting: S2A_MSIL1C_20211227T161701_N0301_R140_T16PDV_20211227T195002.SAFE/INSPIRE.xml  \n",
            " extracting: S2A_MSIL1C_20211227T161701_N0301_R140_T16PDV_20211227T195002.SAFE/MTD_MSIL1C.xml  \n",
            "   creating: S2A_MSIL1C_20211227T161701_N0301_R140_T16PDV_20211227T195002.SAFE/rep_info/\n",
            "   creating: S2A_MSIL1C_20211227T161701_N0301_R140_T16PDV_20211227T195002.SAFE/HTML/\n",
            "   creating: S2A_MSIL1C_20211227T161701_N0301_R140_T16PDV_20211227T195002.SAFE/AUX_DATA/\n",
            "   creating: S2A_MSIL1C_20211227T161701_N0301_R140_T16PDV_20211227T195002.SAFE/GRANULE/\n",
            "   creating: S2A_MSIL1C_20211227T161701_N0301_R140_T16PDV_20211227T195002.SAFE/DATASTRIP/\n",
            " extracting: S2A_MSIL1C_20211227T161701_N0301_R140_T16PDV_20211227T195002.SAFE/rep_info/S2_User_Product_Level-1C_Metadata.xsd  \n",
            " extracting: S2A_MSIL1C_20211227T161701_N0301_R140_T16PDV_20211227T195002.SAFE/HTML/banner_2.png  \n",
            " extracting: S2A_MSIL1C_20211227T161701_N0301_R140_T16PDV_20211227T195002.SAFE/HTML/star_bg.jpg  \n",
            " extracting: S2A_MSIL1C_20211227T161701_N0301_R140_T16PDV_20211227T195002.SAFE/HTML/UserProduct_index.html  \n",
            " extracting: S2A_MSIL1C_20211227T161701_N0301_R140_T16PDV_20211227T195002.SAFE/HTML/banner_3.png  \n",
            " extracting: S2A_MSIL1C_20211227T161701_N0301_R140_T16PDV_20211227T195002.SAFE/HTML/UserProduct_index.xsl  \n",
            " extracting: S2A_MSIL1C_20211227T161701_N0301_R140_T16PDV_20211227T195002.SAFE/HTML/banner_1.png  \n",
            "   creating: S2A_MSIL1C_20211227T161701_N0301_R140_T16PDV_20211227T195002.SAFE/GRANULE/L1C_T16PDV_A034028_20211227T162807/\n",
            " extracting: S2A_MSIL1C_20211227T161701_N0301_R140_T16PDV_20211227T195002.SAFE/GRANULE/L1C_T16PDV_A034028_20211227T162807/MTD_TL.xml  \n",
            "   creating: S2A_MSIL1C_20211227T161701_N0301_R140_T16PDV_20211227T195002.SAFE/GRANULE/L1C_T16PDV_A034028_20211227T162807/IMG_DATA/\n",
            "   creating: S2A_MSIL1C_20211227T161701_N0301_R140_T16PDV_20211227T195002.SAFE/GRANULE/L1C_T16PDV_A034028_20211227T162807/AUX_DATA/\n",
            "   creating: S2A_MSIL1C_20211227T161701_N0301_R140_T16PDV_20211227T195002.SAFE/GRANULE/L1C_T16PDV_A034028_20211227T162807/QI_DATA/\n",
            " extracting: S2A_MSIL1C_20211227T161701_N0301_R140_T16PDV_20211227T195002.SAFE/GRANULE/L1C_T16PDV_A034028_20211227T162807/IMG_DATA/T16PDV_20211227T161701_B02.jp2  \n",
            " extracting: S2A_MSIL1C_20211227T161701_N0301_R140_T16PDV_20211227T195002.SAFE/GRANULE/L1C_T16PDV_A034028_20211227T162807/IMG_DATA/T16PDV_20211227T161701_B05.jp2  \n",
            " extracting: S2A_MSIL1C_20211227T161701_N0301_R140_T16PDV_20211227T195002.SAFE/GRANULE/L1C_T16PDV_A034028_20211227T162807/IMG_DATA/T16PDV_20211227T161701_TCI.jp2  \n",
            " extracting: S2A_MSIL1C_20211227T161701_N0301_R140_T16PDV_20211227T195002.SAFE/GRANULE/L1C_T16PDV_A034028_20211227T162807/IMG_DATA/T16PDV_20211227T161701_B12.jp2  \n",
            " extracting: S2A_MSIL1C_20211227T161701_N0301_R140_T16PDV_20211227T195002.SAFE/GRANULE/L1C_T16PDV_A034028_20211227T162807/IMG_DATA/T16PDV_20211227T161701_B04.jp2  \n",
            " extracting: S2A_MSIL1C_20211227T161701_N0301_R140_T16PDV_20211227T195002.SAFE/GRANULE/L1C_T16PDV_A034028_20211227T162807/IMG_DATA/T16PDV_20211227T161701_B03.jp2  \n",
            " extracting: S2A_MSIL1C_20211227T161701_N0301_R140_T16PDV_20211227T195002.SAFE/GRANULE/L1C_T16PDV_A034028_20211227T162807/IMG_DATA/T16PDV_20211227T161701_B09.jp2  \n",
            " extracting: S2A_MSIL1C_20211227T161701_N0301_R140_T16PDV_20211227T195002.SAFE/GRANULE/L1C_T16PDV_A034028_20211227T162807/IMG_DATA/T16PDV_20211227T161701_B07.jp2  \n",
            " extracting: S2A_MSIL1C_20211227T161701_N0301_R140_T16PDV_20211227T195002.SAFE/GRANULE/L1C_T16PDV_A034028_20211227T162807/IMG_DATA/T16PDV_20211227T161701_B8A.jp2  \n",
            " extracting: S2A_MSIL1C_20211227T161701_N0301_R140_T16PDV_20211227T195002.SAFE/GRANULE/L1C_T16PDV_A034028_20211227T162807/IMG_DATA/T16PDV_20211227T161701_B11.jp2  \n",
            " extracting: S2A_MSIL1C_20211227T161701_N0301_R140_T16PDV_20211227T195002.SAFE/GRANULE/L1C_T16PDV_A034028_20211227T162807/IMG_DATA/T16PDV_20211227T161701_B06.jp2  \n",
            " extracting: S2A_MSIL1C_20211227T161701_N0301_R140_T16PDV_20211227T195002.SAFE/GRANULE/L1C_T16PDV_A034028_20211227T162807/IMG_DATA/T16PDV_20211227T161701_B01.jp2  \n",
            " extracting: S2A_MSIL1C_20211227T161701_N0301_R140_T16PDV_20211227T195002.SAFE/GRANULE/L1C_T16PDV_A034028_20211227T162807/IMG_DATA/T16PDV_20211227T161701_B08.jp2  \n",
            " extracting: S2A_MSIL1C_20211227T161701_N0301_R140_T16PDV_20211227T195002.SAFE/GRANULE/L1C_T16PDV_A034028_20211227T162807/IMG_DATA/T16PDV_20211227T161701_B10.jp2  \n",
            " extracting: S2A_MSIL1C_20211227T161701_N0301_R140_T16PDV_20211227T195002.SAFE/GRANULE/L1C_T16PDV_A034028_20211227T162807/AUX_DATA/AUX_ECMWFT  \n",
            " extracting: S2A_MSIL1C_20211227T161701_N0301_R140_T16PDV_20211227T195002.SAFE/GRANULE/L1C_T16PDV_A034028_20211227T162807/QI_DATA/MSK_SATURA_B02.gml  \n",
            " extracting: S2A_MSIL1C_20211227T161701_N0301_R140_T16PDV_20211227T195002.SAFE/GRANULE/L1C_T16PDV_A034028_20211227T162807/QI_DATA/MSK_TECQUA_B8A.gml  \n",
            " extracting: S2A_MSIL1C_20211227T161701_N0301_R140_T16PDV_20211227T195002.SAFE/GRANULE/L1C_T16PDV_A034028_20211227T162807/QI_DATA/MSK_SATURA_B05.gml  \n",
            " extracting: S2A_MSIL1C_20211227T161701_N0301_R140_T16PDV_20211227T195002.SAFE/GRANULE/L1C_T16PDV_A034028_20211227T162807/QI_DATA/MSK_DETFOO_B05.gml  \n",
            " extracting: S2A_MSIL1C_20211227T161701_N0301_R140_T16PDV_20211227T195002.SAFE/GRANULE/L1C_T16PDV_A034028_20211227T162807/QI_DATA/MSK_TECQUA_B07.gml  \n",
            " extracting: S2A_MSIL1C_20211227T161701_N0301_R140_T16PDV_20211227T195002.SAFE/GRANULE/L1C_T16PDV_A034028_20211227T162807/QI_DATA/MSK_DEFECT_B01.gml  \n",
            " extracting: S2A_MSIL1C_20211227T161701_N0301_R140_T16PDV_20211227T195002.SAFE/GRANULE/L1C_T16PDV_A034028_20211227T162807/QI_DATA/MSK_NODATA_B12.gml  \n",
            " extracting: S2A_MSIL1C_20211227T161701_N0301_R140_T16PDV_20211227T195002.SAFE/GRANULE/L1C_T16PDV_A034028_20211227T162807/QI_DATA/T16PDV_20211227T161701_PVI.jp2  \n",
            " extracting: S2A_MSIL1C_20211227T161701_N0301_R140_T16PDV_20211227T195002.SAFE/GRANULE/L1C_T16PDV_A034028_20211227T162807/QI_DATA/MSK_DEFECT_B06.gml  \n",
            " extracting: S2A_MSIL1C_20211227T161701_N0301_R140_T16PDV_20211227T195002.SAFE/GRANULE/L1C_T16PDV_A034028_20211227T162807/QI_DATA/MSK_DETFOO_B02.gml  \n",
            " extracting: S2A_MSIL1C_20211227T161701_N0301_R140_T16PDV_20211227T195002.SAFE/GRANULE/L1C_T16PDV_A034028_20211227T162807/QI_DATA/MSK_DEFECT_B08.gml  \n",
            " extracting: S2A_MSIL1C_20211227T161701_N0301_R140_T16PDV_20211227T195002.SAFE/GRANULE/L1C_T16PDV_A034028_20211227T162807/QI_DATA/MSK_TECQUA_B09.gml  \n",
            " extracting: S2A_MSIL1C_20211227T161701_N0301_R140_T16PDV_20211227T195002.SAFE/GRANULE/L1C_T16PDV_A034028_20211227T162807/QI_DATA/MSK_NODATA_B04.gml  \n",
            " extracting: S2A_MSIL1C_20211227T161701_N0301_R140_T16PDV_20211227T195002.SAFE/GRANULE/L1C_T16PDV_A034028_20211227T162807/QI_DATA/MSK_TECQUA_B11.gml  \n",
            " extracting: S2A_MSIL1C_20211227T161701_N0301_R140_T16PDV_20211227T195002.SAFE/GRANULE/L1C_T16PDV_A034028_20211227T162807/QI_DATA/MSK_DEFECT_B10.gml  \n",
            " extracting: S2A_MSIL1C_20211227T161701_N0301_R140_T16PDV_20211227T195002.SAFE/GRANULE/L1C_T16PDV_A034028_20211227T162807/QI_DATA/MSK_NODATA_B03.gml  \n",
            " extracting: S2A_MSIL1C_20211227T161701_N0301_R140_T16PDV_20211227T195002.SAFE/GRANULE/L1C_T16PDV_A034028_20211227T162807/QI_DATA/FORMAT_CORRECTNESS.xml  \n",
            " extracting: S2A_MSIL1C_20211227T161701_N0301_R140_T16PDV_20211227T195002.SAFE/GRANULE/L1C_T16PDV_A034028_20211227T162807/QI_DATA/MSK_TECQUA_B08.gml  \n",
            " extracting: S2A_MSIL1C_20211227T161701_N0301_R140_T16PDV_20211227T195002.SAFE/GRANULE/L1C_T16PDV_A034028_20211227T162807/QI_DATA/GEOMETRIC_QUALITY.xml  \n",
            " extracting: S2A_MSIL1C_20211227T161701_N0301_R140_T16PDV_20211227T195002.SAFE/GRANULE/L1C_T16PDV_A034028_20211227T162807/QI_DATA/MSK_DEFECT_B09.gml  \n",
            " extracting: S2A_MSIL1C_20211227T161701_N0301_R140_T16PDV_20211227T195002.SAFE/GRANULE/L1C_T16PDV_A034028_20211227T162807/QI_DATA/MSK_DEFECT_B07.gml  \n",
            " extracting: S2A_MSIL1C_20211227T161701_N0301_R140_T16PDV_20211227T195002.SAFE/GRANULE/L1C_T16PDV_A034028_20211227T162807/QI_DATA/MSK_DETFOO_B03.gml  \n",
            " extracting: S2A_MSIL1C_20211227T161701_N0301_R140_T16PDV_20211227T195002.SAFE/GRANULE/L1C_T16PDV_A034028_20211227T162807/QI_DATA/MSK_TECQUA_B01.gml  \n",
            " extracting: S2A_MSIL1C_20211227T161701_N0301_R140_T16PDV_20211227T195002.SAFE/GRANULE/L1C_T16PDV_A034028_20211227T162807/QI_DATA/MSK_TECQUA_B06.gml  \n",
            " extracting: S2A_MSIL1C_20211227T161701_N0301_R140_T16PDV_20211227T195002.SAFE/GRANULE/L1C_T16PDV_A034028_20211227T162807/QI_DATA/MSK_DETFOO_B04.gml  \n",
            " extracting: S2A_MSIL1C_20211227T161701_N0301_R140_T16PDV_20211227T195002.SAFE/GRANULE/L1C_T16PDV_A034028_20211227T162807/QI_DATA/MSK_SATURA_B04.gml  \n",
            " extracting: S2A_MSIL1C_20211227T161701_N0301_R140_T16PDV_20211227T195002.SAFE/GRANULE/L1C_T16PDV_A034028_20211227T162807/QI_DATA/MSK_DEFECT_B8A.gml  \n",
            " extracting: S2A_MSIL1C_20211227T161701_N0301_R140_T16PDV_20211227T195002.SAFE/GRANULE/L1C_T16PDV_A034028_20211227T162807/QI_DATA/MSK_CLOUDS_B00.gml  \n",
            " extracting: S2A_MSIL1C_20211227T161701_N0301_R140_T16PDV_20211227T195002.SAFE/GRANULE/L1C_T16PDV_A034028_20211227T162807/QI_DATA/MSK_SATURA_B03.gml  \n",
            " extracting: S2A_MSIL1C_20211227T161701_N0301_R140_T16PDV_20211227T195002.SAFE/GRANULE/L1C_T16PDV_A034028_20211227T162807/QI_DATA/MSK_SATURA_B12.gml  \n",
            " extracting: S2A_MSIL1C_20211227T161701_N0301_R140_T16PDV_20211227T195002.SAFE/GRANULE/L1C_T16PDV_A034028_20211227T162807/QI_DATA/MSK_DEFECT_B11.gml  \n",
            " extracting: S2A_MSIL1C_20211227T161701_N0301_R140_T16PDV_20211227T195002.SAFE/GRANULE/L1C_T16PDV_A034028_20211227T162807/QI_DATA/MSK_NODATA_B02.gml  \n",
            " extracting: S2A_MSIL1C_20211227T161701_N0301_R140_T16PDV_20211227T195002.SAFE/GRANULE/L1C_T16PDV_A034028_20211227T162807/QI_DATA/MSK_NODATA_B05.gml  \n",
            " extracting: S2A_MSIL1C_20211227T161701_N0301_R140_T16PDV_20211227T195002.SAFE/GRANULE/L1C_T16PDV_A034028_20211227T162807/QI_DATA/MSK_TECQUA_B10.gml  \n",
            " extracting: S2A_MSIL1C_20211227T161701_N0301_R140_T16PDV_20211227T195002.SAFE/GRANULE/L1C_T16PDV_A034028_20211227T162807/QI_DATA/MSK_DETFOO_B12.gml  \n",
            " extracting: S2A_MSIL1C_20211227T161701_N0301_R140_T16PDV_20211227T195002.SAFE/GRANULE/L1C_T16PDV_A034028_20211227T162807/QI_DATA/SENSOR_QUALITY.xml  \n",
            " extracting: S2A_MSIL1C_20211227T161701_N0301_R140_T16PDV_20211227T195002.SAFE/GRANULE/L1C_T16PDV_A034028_20211227T162807/QI_DATA/MSK_SATURA_B11.gml  \n",
            " extracting: S2A_MSIL1C_20211227T161701_N0301_R140_T16PDV_20211227T195002.SAFE/GRANULE/L1C_T16PDV_A034028_20211227T162807/QI_DATA/GENERAL_QUALITY.xml  \n",
            " extracting: S2A_MSIL1C_20211227T161701_N0301_R140_T16PDV_20211227T195002.SAFE/GRANULE/L1C_T16PDV_A034028_20211227T162807/QI_DATA/MSK_NODATA_B06.gml  \n",
            " extracting: S2A_MSIL1C_20211227T161701_N0301_R140_T16PDV_20211227T195002.SAFE/GRANULE/L1C_T16PDV_A034028_20211227T162807/QI_DATA/MSK_DETFOO_B11.gml  \n",
            " extracting: S2A_MSIL1C_20211227T161701_N0301_R140_T16PDV_20211227T195002.SAFE/GRANULE/L1C_T16PDV_A034028_20211227T162807/QI_DATA/MSK_NODATA_B01.gml  \n",
            " extracting: S2A_MSIL1C_20211227T161701_N0301_R140_T16PDV_20211227T195002.SAFE/GRANULE/L1C_T16PDV_A034028_20211227T162807/QI_DATA/MSK_DEFECT_B12.gml  \n",
            " extracting: S2A_MSIL1C_20211227T161701_N0301_R140_T16PDV_20211227T195002.SAFE/GRANULE/L1C_T16PDV_A034028_20211227T162807/QI_DATA/MSK_NODATA_B08.gml  \n",
            " extracting: S2A_MSIL1C_20211227T161701_N0301_R140_T16PDV_20211227T195002.SAFE/GRANULE/L1C_T16PDV_A034028_20211227T162807/QI_DATA/MSK_DETFOO_B09.gml  \n",
            " extracting: S2A_MSIL1C_20211227T161701_N0301_R140_T16PDV_20211227T195002.SAFE/GRANULE/L1C_T16PDV_A034028_20211227T162807/QI_DATA/MSK_TECQUA_B05.gml  \n",
            " extracting: S2A_MSIL1C_20211227T161701_N0301_R140_T16PDV_20211227T195002.SAFE/GRANULE/L1C_T16PDV_A034028_20211227T162807/QI_DATA/MSK_DETFOO_B07.gml  \n",
            " extracting: S2A_MSIL1C_20211227T161701_N0301_R140_T16PDV_20211227T195002.SAFE/GRANULE/L1C_T16PDV_A034028_20211227T162807/QI_DATA/MSK_NODATA_B10.gml  \n",
            " extracting: S2A_MSIL1C_20211227T161701_N0301_R140_T16PDV_20211227T195002.SAFE/GRANULE/L1C_T16PDV_A034028_20211227T162807/QI_DATA/MSK_DEFECT_B03.gml  \n",
            " extracting: S2A_MSIL1C_20211227T161701_N0301_R140_T16PDV_20211227T195002.SAFE/GRANULE/L1C_T16PDV_A034028_20211227T162807/QI_DATA/MSK_DEFECT_B04.gml  \n",
            " extracting: S2A_MSIL1C_20211227T161701_N0301_R140_T16PDV_20211227T195002.SAFE/GRANULE/L1C_T16PDV_A034028_20211227T162807/QI_DATA/MSK_SATURA_B8A.gml  \n",
            " extracting: S2A_MSIL1C_20211227T161701_N0301_R140_T16PDV_20211227T195002.SAFE/GRANULE/L1C_T16PDV_A034028_20211227T162807/QI_DATA/MSK_TECQUA_B02.gml  \n",
            " extracting: S2A_MSIL1C_20211227T161701_N0301_R140_T16PDV_20211227T195002.SAFE/GRANULE/L1C_T16PDV_A034028_20211227T162807/QI_DATA/MSK_SATURA_B09.gml  \n",
            " extracting: S2A_MSIL1C_20211227T161701_N0301_R140_T16PDV_20211227T195002.SAFE/GRANULE/L1C_T16PDV_A034028_20211227T162807/QI_DATA/MSK_DETFOO_B8A.gml  \n",
            " extracting: S2A_MSIL1C_20211227T161701_N0301_R140_T16PDV_20211227T195002.SAFE/GRANULE/L1C_T16PDV_A034028_20211227T162807/QI_DATA/MSK_SATURA_B07.gml  \n",
            " extracting: S2A_MSIL1C_20211227T161701_N0301_R140_T16PDV_20211227T195002.SAFE/GRANULE/L1C_T16PDV_A034028_20211227T162807/QI_DATA/MSK_NODATA_B09.gml  \n",
            " extracting: S2A_MSIL1C_20211227T161701_N0301_R140_T16PDV_20211227T195002.SAFE/GRANULE/L1C_T16PDV_A034028_20211227T162807/QI_DATA/MSK_NODATA_B07.gml  \n",
            " extracting: S2A_MSIL1C_20211227T161701_N0301_R140_T16PDV_20211227T195002.SAFE/GRANULE/L1C_T16PDV_A034028_20211227T162807/QI_DATA/MSK_DETFOO_B10.gml  \n",
            " extracting: S2A_MSIL1C_20211227T161701_N0301_R140_T16PDV_20211227T195002.SAFE/GRANULE/L1C_T16PDV_A034028_20211227T162807/QI_DATA/MSK_TECQUA_B12.gml  \n",
            " extracting: S2A_MSIL1C_20211227T161701_N0301_R140_T16PDV_20211227T195002.SAFE/GRANULE/L1C_T16PDV_A034028_20211227T162807/QI_DATA/MSK_SATURA_B10.gml  \n",
            " extracting: S2A_MSIL1C_20211227T161701_N0301_R140_T16PDV_20211227T195002.SAFE/GRANULE/L1C_T16PDV_A034028_20211227T162807/QI_DATA/MSK_NODATA_B8A.gml  \n",
            " extracting: S2A_MSIL1C_20211227T161701_N0301_R140_T16PDV_20211227T195002.SAFE/GRANULE/L1C_T16PDV_A034028_20211227T162807/QI_DATA/MSK_SATURA_B06.gml  \n",
            " extracting: S2A_MSIL1C_20211227T161701_N0301_R140_T16PDV_20211227T195002.SAFE/GRANULE/L1C_T16PDV_A034028_20211227T162807/QI_DATA/MSK_SATURA_B01.gml  \n",
            " extracting: S2A_MSIL1C_20211227T161701_N0301_R140_T16PDV_20211227T195002.SAFE/GRANULE/L1C_T16PDV_A034028_20211227T162807/QI_DATA/MSK_SATURA_B08.gml  \n",
            " extracting: S2A_MSIL1C_20211227T161701_N0301_R140_T16PDV_20211227T195002.SAFE/GRANULE/L1C_T16PDV_A034028_20211227T162807/QI_DATA/MSK_DEFECT_B05.gml  \n",
            " extracting: S2A_MSIL1C_20211227T161701_N0301_R140_T16PDV_20211227T195002.SAFE/GRANULE/L1C_T16PDV_A034028_20211227T162807/QI_DATA/MSK_TECQUA_B03.gml  \n",
            " extracting: S2A_MSIL1C_20211227T161701_N0301_R140_T16PDV_20211227T195002.SAFE/GRANULE/L1C_T16PDV_A034028_20211227T162807/QI_DATA/MSK_DETFOO_B01.gml  \n",
            " extracting: S2A_MSIL1C_20211227T161701_N0301_R140_T16PDV_20211227T195002.SAFE/GRANULE/L1C_T16PDV_A034028_20211227T162807/QI_DATA/MSK_DETFOO_B06.gml  \n",
            " extracting: S2A_MSIL1C_20211227T161701_N0301_R140_T16PDV_20211227T195002.SAFE/GRANULE/L1C_T16PDV_A034028_20211227T162807/QI_DATA/MSK_TECQUA_B04.gml  \n",
            " extracting: S2A_MSIL1C_20211227T161701_N0301_R140_T16PDV_20211227T195002.SAFE/GRANULE/L1C_T16PDV_A034028_20211227T162807/QI_DATA/MSK_NODATA_B11.gml  \n",
            " extracting: S2A_MSIL1C_20211227T161701_N0301_R140_T16PDV_20211227T195002.SAFE/GRANULE/L1C_T16PDV_A034028_20211227T162807/QI_DATA/MSK_DEFECT_B02.gml  \n",
            " extracting: S2A_MSIL1C_20211227T161701_N0301_R140_T16PDV_20211227T195002.SAFE/GRANULE/L1C_T16PDV_A034028_20211227T162807/QI_DATA/MSK_DETFOO_B08.gml  \n",
            "   creating: S2A_MSIL1C_20211227T161701_N0301_R140_T16PDV_20211227T195002.SAFE/DATASTRIP/DS_VGS2_20211227T195002_S20211227T162807/\n",
            " extracting: S2A_MSIL1C_20211227T161701_N0301_R140_T16PDV_20211227T195002.SAFE/DATASTRIP/DS_VGS2_20211227T195002_S20211227T162807/MTD_DS.xml  \n",
            "   creating: S2A_MSIL1C_20211227T161701_N0301_R140_T16PDV_20211227T195002.SAFE/DATASTRIP/DS_VGS2_20211227T195002_S20211227T162807/QI_DATA/\n",
            " extracting: S2A_MSIL1C_20211227T161701_N0301_R140_T16PDV_20211227T195002.SAFE/DATASTRIP/DS_VGS2_20211227T195002_S20211227T162807/QI_DATA/GEOMETRIC_QUALITY.xml  \n",
            " extracting: S2A_MSIL1C_20211227T161701_N0301_R140_T16PDV_20211227T195002.SAFE/DATASTRIP/DS_VGS2_20211227T195002_S20211227T162807/QI_DATA/FORMAT_CORRECTNESS.xml  \n",
            " extracting: S2A_MSIL1C_20211227T161701_N0301_R140_T16PDV_20211227T195002.SAFE/DATASTRIP/DS_VGS2_20211227T195002_S20211227T162807/QI_DATA/GENERAL_QUALITY.xml  \n",
            " extracting: S2A_MSIL1C_20211227T161701_N0301_R140_T16PDV_20211227T195002.SAFE/DATASTRIP/DS_VGS2_20211227T195002_S20211227T162807/QI_DATA/SENSOR_QUALITY.xml  \n",
            " extracting: S2A_MSIL1C_20211227T161701_N0301_R140_T16PDV_20211227T195002.SAFE/DATASTRIP/DS_VGS2_20211227T195002_S20211227T162807/QI_DATA/RADIOMETRIC_QUALITY.xml  \n"
          ]
        }
      ]
    },
    {
      "cell_type": "code",
      "source": [
        "import rasterio \n",
        "from rasterio import plot \n",
        "imagepath='/content/S2A_MSIL1C_20210809T160901_N0301_R140_T16PDV_20210809T221649.SAFE/GRANULE/L1C_T16PDV_A032026_20210809T162326/IMG_DATA/'\n",
        "band2=rasterio.open('/content/S2A_MSIL1C_20210809T160901_N0301_R140_T16PDV_20210809T221649.SAFE/GRANULE/L1C_T16PDV_A032026_20210809T162326/IMG_DATA/T16PDV_20210809T160901_B02.jp2',\n",
        "                    driver='JP2OpenJPEG')\n",
        "band3=rasterio.open('/content/S2A_MSIL1C_20210809T160901_N0301_R140_T16PDV_20210809T221649.SAFE/GRANULE/L1C_T16PDV_A032026_20210809T162326/IMG_DATA/T16PDV_20210809T160901_B03.jp2',\n",
        "                    driver='JP2OpenJPEG')\n",
        "band4=rasterio.open('/content/S2A_MSIL1C_20210809T160901_N0301_R140_T16PDV_20210809T221649.SAFE/GRANULE/L1C_T16PDV_A032026_20210809T162326/IMG_DATA/T16PDV_20210809T160901_B04.jp2',\n",
        "                    driver='JP2OpenJPEG')\n",
        "band8=rasterio.open('/content/S2A_MSIL1C_20210809T160901_N0301_R140_T16PDV_20210809T221649.SAFE/GRANULE/L1C_T16PDV_A032026_20210809T162326/IMG_DATA/T16PDV_20210809T160901_B08.jp2',\n",
        "                    driver='JP2OpenJPEG')\n",
        "band4.count"
      ],
      "metadata": {
        "colab": {
          "base_uri": "https://localhost:8080/"
        },
        "id": "WWQX4N8jOeWx",
        "outputId": "03c2ab83-8215-4e65-a3ea-bda7c952b4e2"
      },
      "execution_count": 60,
      "outputs": [
        {
          "output_type": "execute_result",
          "data": {
            "text/plain": [
              "1"
            ]
          },
          "metadata": {},
          "execution_count": 60
        }
      ]
    },
    {
      "cell_type": "code",
      "source": [
        "band2.count"
      ],
      "metadata": {
        "colab": {
          "base_uri": "https://localhost:8080/"
        },
        "id": "y1qYyYW2QZky",
        "outputId": "2cfb7865-5b65-43f5-c79d-7e7d282322c9"
      },
      "execution_count": 61,
      "outputs": [
        {
          "output_type": "execute_result",
          "data": {
            "text/plain": [
              "1"
            ]
          },
          "metadata": {},
          "execution_count": 61
        }
      ]
    },
    {
      "cell_type": "code",
      "source": [
        "plot.show(band4)"
      ],
      "metadata": {
        "colab": {
          "base_uri": "https://localhost:8080/",
          "height": 294
        },
        "id": "2kl4BGoUQbGX",
        "outputId": "ec66e829-3cf0-466b-9d8f-869e5c96e5f3"
      },
      "execution_count": 62,
      "outputs": [
        {
          "output_type": "display_data",
          "data": {
            "image/png": "[encoded data removed]",
            "text/plain": [
              "<Figure size 432x288 with 1 Axes>"
            ]
          },
          "metadata": {
            "needs_background": "light"
          }
        },
        {
          "output_type": "execute_result",
          "data": {
            "text/plain": [
              "<matplotlib.axes._subplots.AxesSubplot at 0x7fdda374dfd0>"
            ]
          },
          "metadata": {},
          "execution_count": 62
        }
      ]
    },
    {
      "cell_type": "code",
      "source": [
        "band4.dtypes[0]"
      ],
      "metadata": {
        "colab": {
          "base_uri": "https://localhost:8080/",
          "height": 36
        },
        "id": "jTbJNsekQc2I",
        "outputId": "e5e0658a-e932-4914-c280-b16a042ab9ca"
      },
      "execution_count": 64,
      "outputs": [
        {
          "output_type": "execute_result",
          "data": {
            "application/vnd.google.colaboratory.intrinsic+json": {
              "type": "string"
            },
            "text/plain": [
              "'uint16'"
            ]
          },
          "metadata": {},
          "execution_count": 64
        }
      ]
    },
    {
      "cell_type": "code",
      "source": [
        "s2bands=['/content/S2A_MSIL1C_20210809T160901_N0301_R140_T16PDV_20210809T221649.SAFE/GRANULE/L1C_T16PDV_A032026_20210809T162326/IMG_DATA/T16PDV_20210809T160901_B02.jp2',\n",
        "         '/content/S2A_MSIL1C_20210809T160901_N0301_R140_T16PDV_20210809T221649.SAFE/GRANULE/L1C_T16PDV_A032026_20210809T162326/IMG_DATA/T16PDV_20210809T160901_B03.jp2',\n",
        "         '/content/S2A_MSIL1C_20210809T160901_N0301_R140_T16PDV_20210809T221649.SAFE/GRANULE/L1C_T16PDV_A032026_20210809T162326/IMG_DATA/T16PDV_20210809T160901_B04.jp2',\n",
        "         '/content/S2A_MSIL1C_20210809T160901_N0301_R140_T16PDV_20210809T221649.SAFE/GRANULE/L1C_T16PDV_A032026_20210809T162326/IMG_DATA/T16PDV_20210809T160901_B08.jp2']\n",
        "arrs=[]\n",
        "for band in s2bands:\n",
        "  with rasterio.open(band) as f:\n",
        "    arrs.append(f.read(1))"
      ],
      "metadata": {
        "id": "bok-Oa_HQfzF"
      },
      "execution_count": 65,
      "outputs": []
    },
    {
      "cell_type": "code",
      "source": [
        "import numpy as np\n",
        "sen_img=np.array(arrs,dtype=arrs[0].dtype)\n",
        "sen_img.shape"
      ],
      "metadata": {
        "colab": {
          "base_uri": "https://localhost:8080/"
        },
        "id": "Svrx9UzcQyjP",
        "outputId": "d0cac390-2b4a-4cc1-e687-0a3311919ced"
      },
      "execution_count": 68,
      "outputs": [
        {
          "output_type": "execute_result",
          "data": {
            "text/plain": [
              "(4, 10980, 10980)"
            ]
          },
          "metadata": {},
          "execution_count": 68
        }
      ]
    },
    {
      "cell_type": "code",
      "source": [
        "rasterio.plot.show_hist(sen_img,bins=50,histype=\"stepfilled\",lw=0.0,stacked=False,alpha=0.3)"
      ],
      "metadata": {
        "id": "5iFJYMi7S_yG"
      },
      "execution_count": null,
      "outputs": []
    },
    {
      "cell_type": "markdown",
      "source": [
        "## NDVI"
      ],
      "metadata": {
        "id": "UhxR-PVhThr8"
      }
    },
    {
      "cell_type": "code",
      "source": [
        "np.seterr(divide='ignore',invalid='ignore')\n",
        "bandnir=sen_img[3]\n",
        "bandred=sen_img[2]\n",
        "ndvi=(bandNIR.astype(float)-bandred)"
      ],
      "metadata": {
        "id": "SWgGH7yzToG4"
      },
      "execution_count": null,
      "outputs": []
    }
  ]
}